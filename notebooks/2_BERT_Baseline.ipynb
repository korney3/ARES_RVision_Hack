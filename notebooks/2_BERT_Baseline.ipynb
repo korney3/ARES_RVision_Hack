{
 "cells": [
  {
   "cell_type": "code",
   "execution_count": 1,
   "metadata": {},
   "outputs": [],
   "source": [
    "import pandas as pd\n",
    "import glob\n",
    "from tqdm import tqdm, trange\n",
    "from nltk.tokenize import sent_tokenize, word_tokenize\n",
    "import numpy as np\n",
    "import json\n",
    "import os\n",
    "\n",
    "import transformers\n",
    "from transformers import BertForTokenClassification, AdamW\n",
    "\n",
    "import torch\n",
    "from torch.utils.data import TensorDataset, DataLoader, RandomSampler, SequentialSampler\n",
    "from transformers import BertTokenizer, BertConfig\n",
    "\n",
    "from keras.preprocessing.sequence import pad_sequences\n",
    "from sklearn.model_selection import train_test_split\n",
    "\n",
    "from transformers import get_linear_schedule_with_warmup\n",
    "\n",
    "\n",
    "from sklearn.metrics import accuracy_score\n",
    "from sklearn.metrics import f1_score\n",
    "from sklearn.metrics import precision_score\n",
    "from sklearn.metrics import recall_score\n",
    "from sklearn.metrics import confusion_matrix\n",
    "\n",
    "import matplotlib.pyplot as plt\n",
    "%matplotlib inline\n",
    "\n",
    "import seaborn as sns"
   ]
  },
  {
   "cell_type": "code",
   "execution_count": null,
   "metadata": {},
   "outputs": [],
   "source": []
  },
  {
   "cell_type": "code",
   "execution_count": 2,
   "metadata": {},
   "outputs": [],
   "source": [
    "DATA_PATH = '../data/processed/'\n",
    "LOG_PATH = '../models/BERT_baseline'"
   ]
  },
  {
   "cell_type": "markdown",
   "metadata": {},
   "source": [
    "# Load data"
   ]
  },
  {
   "cell_type": "code",
   "execution_count": 3,
   "metadata": {},
   "outputs": [],
   "source": [
    "def load_data(DATA_PATH):\n",
    "    docs = []\n",
    "    sent_num_dataset = 0\n",
    "    for doc in glob.glob(DATA_PATH+'*'):\n",
    "        with open(doc) as f:\n",
    "            docname = ''.join(doc.split('/')[-1].split('.')[:-2])\n",
    "            data = []\n",
    "            for para in f.read().strip().split('\\n\\n'):\n",
    "              para = ' '.join(para.strip().replace(\"\\n\", \" \").split())\n",
    "              if para!='':\n",
    "                data.extend(sent_tokenize(para))\n",
    "            # data = sent_tokenize(f.read().strip())\n",
    "            rows = [{'DocName':docname, 'SentNum':i, 'SentNumOverall':i+sent_num_dataset,'Sentence':sent} for i, sent in enumerate(data)]\n",
    "            docs+=rows\n",
    "            sent_num_dataset+=len(data)\n",
    "    return docs"
   ]
  },
  {
   "cell_type": "code",
   "execution_count": 4,
   "metadata": {},
   "outputs": [],
   "source": [
    "docs = load_data(DATA_PATH)"
   ]
  },
  {
   "cell_type": "code",
   "execution_count": 5,
   "metadata": {},
   "outputs": [
    {
     "data": {
      "text/plain": [
       "[{'DocName': 'Group-IB_Lazarus',\n",
       "  'SentNum': 0,\n",
       "  'SentNumOverall': 0,\n",
       "  'Sentence': '<THREAT_ACTOR>Lazarus</THREAT_ACTOR> ARISEN'},\n",
       " {'DocName': 'Group-IB_Lazarus',\n",
       "  'SentNum': 1,\n",
       "  'SentNumOverall': 1,\n",
       "  'Sentence': 'ARCHITECTURE / TOOLS / ATTRIBUTION'},\n",
       " {'DocName': 'Group-IB_Lazarus',\n",
       "  'SentNum': 2,\n",
       "  'SentNumOverall': 2,\n",
       "  'Sentence': '<THREAT_ACTOR>Lazarus</THREAT_ACTOR> arisen: architecture, tools, attribution2'},\n",
       " {'DocName': 'Group-IB_Lazarus',\n",
       "  'SentNum': 3,\n",
       "  'SentNumOverall': 3,\n",
       "  'Sentence': 'INTRODUCTION'},\n",
       " {'DocName': 'Group-IB_Lazarus',\n",
       "  'SentNum': 4,\n",
       "  'SentNumOverall': 4,\n",
       "  'Sentence': 'In <TIMESTAMP>February 2016</TIMESTAMP>, hackers reportedly attempted to steal approximately 1 billion USD from the <ORG>Central Bank of Bangladesh</ORG> through <SOFTWARE>SWIFT</SOFTWARE>.'},\n",
       " {'DocName': 'Group-IB_Lazarus',\n",
       "  'SentNum': 5,\n",
       "  'SentNumOverall': 5,\n",
       "  'Sentence': 'In <TIMESTAMP>February 2017</TIMESTAMP>, several Polish <INDUSTRY>banks</INDUSTRY> were compromised.'},\n",
       " {'DocName': 'Group-IB_Lazarus',\n",
       "  'SentNum': 6,\n",
       "  'SentNumOverall': 6,\n",
       "  'Sentence': 'Security researchers analysed the malware code, chiefly using this to attribute activity to <THREAT_ACTOR>Lazarus</THREAT_ACTOR> group.'},\n",
       " {'DocName': 'Group-IB_Lazarus',\n",
       "  'SentNum': 7,\n",
       "  'SentNumOverall': 7,\n",
       "  'Sentence': 'As tools are often reused by different groups, while helpful, malware analysis does not provide conclusive evidence of attribution.'},\n",
       " {'DocName': 'Group-IB_Lazarus',\n",
       "  'SentNum': 8,\n",
       "  'SentNumOverall': 8,\n",
       "  'Sentence': '<ORG>Group-IB</ORG> researchers investigating <THREAT_ACTOR>Lazarus</THREAT_ACTOR> group collected a broad range of data, both technical and strategic, which places clear attribution on <COUNTRY>North Korea</COUNTRY>.'},\n",
       " {'DocName': 'Group-IB_Lazarus',\n",
       "  'SentNum': 9,\n",
       "  'SentNumOverall': 9,\n",
       "  'Sentence': 'The team detected and thoroughly analyzed multiple layers of C&C infrastructure used by <THREAT_ACTOR>Lazarus</THREAT_ACTOR> and have identified North Korean IP addresses from which the attacks were ultimately controlled.'},\n",
       " {'DocName': 'Group-IB_Lazarus',\n",
       "  'SentNum': 10,\n",
       "  'SentNumOverall': 10,\n",
       "  'Sentence': 'The following report is an overview of this group’s attack methodology for financial institutions, the malware employed and review of their targets.'},\n",
       " {'DocName': 'Group-IB_Lazarus',\n",
       "  'SentNum': 11,\n",
       "  'SentNumOverall': 11,\n",
       "  'Sentence': '<THREAT_ACTOR>Lazarus</THREAT_ACTOR> arisen: architecture, tools, attribution3'},\n",
       " {'DocName': 'Group-IB_Lazarus',\n",
       "  'SentNum': 12,\n",
       "  'SentNumOverall': 12,\n",
       "  'Sentence': 'Through analysis of <THREAT_ACTOR>Lazarus</THREAT_ACTOR> activity, <ORG>Group-IB</ORG> gained deep insight on a complex botnet infrastructure built by the hacker group to conduct their attacks.'},\n",
       " {'DocName': 'Group-IB_Lazarus',\n",
       "  'SentNum': 13,\n",
       "  'SentNumOverall': 13,\n",
       "  'Sentence': 'To mask malicious activity, the hackers used a three-layer architecture of compromised servers with SSL encrypted channels established between them.'},\n",
       " {'DocName': 'Group-IB_Lazarus',\n",
       "  'SentNum': 14,\n",
       "  'SentNumOverall': 14,\n",
       "  'Sentence': 'In addition to encrypted traffic, data sent through SSL channel was additionally encrypted.'},\n",
       " {'DocName': 'Group-IB_Lazarus',\n",
       "  'SentNum': 15,\n",
       "  'SentNumOverall': 15,\n",
       "  'Sentence': 'The attackers achieved anonymity by employing a legitimate VPN client - <TOOL>SoftEther VPN</TOOL>.'},\n",
       " {'DocName': 'Group-IB_Lazarus',\n",
       "  'SentNum': 16,\n",
       "  'SentNumOverall': 16,\n",
       "  'Sentence': 'In some cases, they also used corporate web servers that were part of the attacked infrastructure.'},\n",
       " {'DocName': 'Group-IB_Lazarus',\n",
       "  'SentNum': 17,\n",
       "  'SentNumOverall': 17,\n",
       "  'Sentence': 'To control infected machines, the hackers employed multi-module tools, attempting to complicate malware analysis.'},\n",
       " {'DocName': 'Group-IB_Lazarus',\n",
       "  'SentNum': 18,\n",
       "  'SentNumOverall': 18,\n",
       "  'Sentence': 'That said, they managed to conduct several successful attacks without employing 0day exploits.'},\n",
       " {'DocName': 'Group-IB_Lazarus',\n",
       "  'SentNum': 19,\n",
       "  'SentNumOverall': 19,\n",
       "  'Sentence': '<THREAT_ACTOR>Lazarus</THREAT_ACTOR> demonstrated a flexible approach to attacks by applying different hacking tools, which prevented their detection by endpoint security solutions.'},\n",
       " {'DocName': 'Group-IB_Lazarus',\n",
       "  'SentNum': 20,\n",
       "  'SentNumOverall': 20,\n",
       "  'Sentence': 'According to our investigation of the <THREAT_ACTOR>Lazarus</THREAT_ACTOR> infrastructure, the threat actors connected to the end C&C layer (Layer3) from two North Korean IP addresses <IOC>210.52.109.22</IOC> and <IOC>175.45.178.222</IOC>.'},\n",
       " {'DocName': 'Group-IB_Lazarus',\n",
       "  'SentNum': 21,\n",
       "  'SentNumOverall': 21,\n",
       "  'Sentence': 'The second IP-address relates to Potonggang District, perhaps coincidentally, where <ORG>National Defence Commission</ORG is located — the highest military body in <COUNTRY>North Korea</COUNTRY>'},\n",
       " {'DocName': 'Group-IB_Lazarus',\n",
       "  'SentNum': 22,\n",
       "  'SentNumOverall': 22,\n",
       "  'Sentence': 'Additional evidence was confirmed that <THREAT_ACTOR>Lazarus</THREAT_ACTOR> links to North Korean hackers by <ORG>Group-IB</ORG> specialists through analysis of pubic sources.'},\n",
       " {'DocName': 'Group-IB_Lazarus',\n",
       "  'SentNum': 23,\n",
       "  'SentNumOverall': 23,\n",
       "  'Sentence': 'We found a news report from a South Korean <ORG>Arirang</ORG> TV agency, dated <TIMESTAMP>2016</TIMESTAMP>, about an attack on South Korean television stations and <INDUSTRY>banks</INDUSTRY> as part of <THREAT_ACTOR>DarkSeoul</THREAT_ACTOR> operation.'},\n",
       " {'DocName': 'Group-IB_Lazarus',\n",
       "  'SentNum': 24,\n",
       "  'SentNumOverall': 24,\n",
       "  'Sentence': 'This attack performed by North Korean hackers and was investigated by the <ORG>South Korea’s National Police Agency</ORG>, who detected two IP addresses <IOC>175.45.178.19</IOC> and <IOC>175.45.178.97</IOC>, used by hackers to control malware.'}]"
      ]
     },
     "execution_count": 5,
     "metadata": {},
     "output_type": "execute_result"
    }
   ],
   "source": [
    "docs[:25]"
   ]
  },
  {
   "cell_type": "markdown",
   "metadata": {},
   "source": [
    "## Parse sentences"
   ]
  },
  {
   "cell_type": "code",
   "execution_count": 6,
   "metadata": {},
   "outputs": [],
   "source": [
    "from html.parser import HTMLParser\n",
    "\n",
    "tags = ['THREAT_ACTOR', 'SOFTWARE', 'INDUSTRY', 'ORG', 'TIMESTAMP',\n",
    "       'MALWARE', 'COUNTRY', 'IOC', 'IDENTITY', 'CAMPAIGN', 'TOOL',\n",
    "       'MITRE_ATTACK', 'THEAT_ACTOR', 'ATTACK_PATTERN', 'TECHNIQUE',\n",
    "       'CITY']\n",
    "\n",
    "tags_small = [x.lower() for x in tags]\n",
    "\n",
    "class DataParser(HTMLParser):\n",
    "    def __init__(self, IOB=True):\n",
    "        super(DataParser, self).__init__()\n",
    "        self.IOB = IOB\n",
    "        self.cur_tag = 'O'\n",
    "        self.dataset = []\n",
    "        self.cur_doc = ''\n",
    "    \n",
    "    def handle_starttag(self, tag, attrs):\n",
    "        self.cur_tag = tag\n",
    "\n",
    "\n",
    "\n",
    "    def handle_endtag(self, tag):\n",
    "        self.cur_tag = 'O'\n",
    "\n",
    "\n",
    "    def handle_data(self, data):\n",
    "        if self.cur_tag=='docname':\n",
    "            self.cur_doc = data\n",
    "        else:\n",
    "          data_tokens = word_tokenize(data)\n",
    "          if self.cur_tag == 'O':\n",
    "              tags = list(zip([self.cur_doc]*len(data_tokens),data_tokens,[self.cur_tag]*len(data_tokens)))\n",
    "          elif self.IOB:\n",
    "              tags = list(zip([self.cur_doc]*len(data_tokens),data_tokens,['B-'+self.cur_tag]+['I-'+self.cur_tag]*(len(data_tokens)-1)))\n",
    "          else:\n",
    "              tags = list(zip([self.cur_doc]*len(data_tokens),data_tokens,[self.cur_tag]*len(data_tokens)))\n",
    "          self.dataset+=tags"
   ]
  },
  {
   "cell_type": "code",
   "execution_count": 7,
   "metadata": {},
   "outputs": [],
   "source": [
    "parsed_docs = []\n",
    "for doc in docs:\n",
    "  parser = DataParser(IOB = True)\n",
    "  parser.feed(doc['Sentence'])\n",
    "  parsed_docs+=[x+(doc['SentNum'], doc['SentNumOverall'], doc['DocName']) for x in parser.dataset]"
   ]
  },
  {
   "cell_type": "code",
   "execution_count": 8,
   "metadata": {},
   "outputs": [],
   "source": [
    "parsed_docs_df = pd.DataFrame(parsed_docs).drop(columns=0)\n",
    "parsed_docs_df.columns = ['text','intent','SentNum','SentNumOverall','DocName']"
   ]
  },
  {
   "cell_type": "code",
   "execution_count": 9,
   "metadata": {},
   "outputs": [
    {
     "data": {
      "text/html": [
       "<div>\n",
       "<style scoped>\n",
       "    .dataframe tbody tr th:only-of-type {\n",
       "        vertical-align: middle;\n",
       "    }\n",
       "\n",
       "    .dataframe tbody tr th {\n",
       "        vertical-align: top;\n",
       "    }\n",
       "\n",
       "    .dataframe thead th {\n",
       "        text-align: right;\n",
       "    }\n",
       "</style>\n",
       "<table border=\"1\" class=\"dataframe\">\n",
       "  <thead>\n",
       "    <tr style=\"text-align: right;\">\n",
       "      <th></th>\n",
       "      <th>text</th>\n",
       "      <th>intent</th>\n",
       "      <th>SentNum</th>\n",
       "      <th>SentNumOverall</th>\n",
       "      <th>DocName</th>\n",
       "    </tr>\n",
       "  </thead>\n",
       "  <tbody>\n",
       "    <tr>\n",
       "      <th>0</th>\n",
       "      <td>Lazarus</td>\n",
       "      <td>B-threat_actor</td>\n",
       "      <td>0</td>\n",
       "      <td>0</td>\n",
       "      <td>Group-IB_Lazarus</td>\n",
       "    </tr>\n",
       "    <tr>\n",
       "      <th>1</th>\n",
       "      <td>ARISEN</td>\n",
       "      <td>O</td>\n",
       "      <td>0</td>\n",
       "      <td>0</td>\n",
       "      <td>Group-IB_Lazarus</td>\n",
       "    </tr>\n",
       "    <tr>\n",
       "      <th>2</th>\n",
       "      <td>ARCHITECTURE</td>\n",
       "      <td>O</td>\n",
       "      <td>1</td>\n",
       "      <td>1</td>\n",
       "      <td>Group-IB_Lazarus</td>\n",
       "    </tr>\n",
       "    <tr>\n",
       "      <th>3</th>\n",
       "      <td>/</td>\n",
       "      <td>O</td>\n",
       "      <td>1</td>\n",
       "      <td>1</td>\n",
       "      <td>Group-IB_Lazarus</td>\n",
       "    </tr>\n",
       "    <tr>\n",
       "      <th>4</th>\n",
       "      <td>TOOLS</td>\n",
       "      <td>O</td>\n",
       "      <td>1</td>\n",
       "      <td>1</td>\n",
       "      <td>Group-IB_Lazarus</td>\n",
       "    </tr>\n",
       "  </tbody>\n",
       "</table>\n",
       "</div>"
      ],
      "text/plain": [
       "           text          intent  SentNum  SentNumOverall           DocName\n",
       "0       Lazarus  B-threat_actor        0               0  Group-IB_Lazarus\n",
       "1        ARISEN               O        0               0  Group-IB_Lazarus\n",
       "2  ARCHITECTURE               O        1               1  Group-IB_Lazarus\n",
       "3             /               O        1               1  Group-IB_Lazarus\n",
       "4         TOOLS               O        1               1  Group-IB_Lazarus"
      ]
     },
     "execution_count": 9,
     "metadata": {},
     "output_type": "execute_result"
    }
   ],
   "source": [
    "parsed_docs_df.head()"
   ]
  },
  {
   "cell_type": "markdown",
   "metadata": {},
   "source": [
    "# BERT model"
   ]
  },
  {
   "cell_type": "code",
   "execution_count": 10,
   "metadata": {},
   "outputs": [],
   "source": [
    "MAX_LEN = 75\n",
    "bs = 32"
   ]
  },
  {
   "cell_type": "code",
   "execution_count": 11,
   "metadata": {},
   "outputs": [],
   "source": [
    "class SentenceGetter(object):\n",
    "    def __init__(self, data):\n",
    "        self.n_sent = 1\n",
    "        self.data = data\n",
    "        self.empty = False\n",
    "        agg_func = lambda s: [(w, p, t) for w, p, t in zip(s[\"text\"].values.tolist(),\n",
    "                                                           s[\"intent\"].values.tolist(),\n",
    "                                                           s[\"DocName\"].values.tolist())]\n",
    "        self.grouped = self.data.groupby('SentNumOverall').apply(agg_func)\n",
    "        self.sentences = [s for s in self.grouped]\n",
    "\n",
    "    def get_next(self):\n",
    "        try:\n",
    "            s = self.grouped[\"Sentence: {}\".format(self.n_sent)]\n",
    "            self.n_sent += 1\n",
    "            return s\n",
    "        except:\n",
    "            return None"
   ]
  },
  {
   "cell_type": "code",
   "execution_count": 12,
   "metadata": {},
   "outputs": [],
   "source": [
    "getter = SentenceGetter(parsed_docs_df)"
   ]
  },
  {
   "cell_type": "code",
   "execution_count": 13,
   "metadata": {},
   "outputs": [],
   "source": [
    "sentences = [[word[0] for word in sentence] for sentence in getter.sentences]\n",
    "labels = [[s[1] for s in sentence] for sentence in getter.sentences]"
   ]
  },
  {
   "cell_type": "code",
   "execution_count": 25,
   "metadata": {},
   "outputs": [],
   "source": [
    "tag_values = list(set(parsed_docs_df[\"intent\"].values))\n",
    "tag_values.append(\"PAD\")\n",
    "tag2idx = {t: i for i, t in enumerate(tag_values)}\n",
    "\n",
    "with open(os.path.join(LOG_PATH,'tag2idx.json'), 'w') as f:\n",
    "    json.dump(tag2idx, f)"
   ]
  },
  {
   "cell_type": "code",
   "execution_count": 16,
   "metadata": {},
   "outputs": [],
   "source": [
    "device = torch.device(\"cuda\" if torch.cuda.is_available() else \"cpu\")\n",
    "n_gpu = torch.cuda.device_count()\n",
    "# torch.cuda.get_device_name(0)"
   ]
  },
  {
   "cell_type": "code",
   "execution_count": 17,
   "metadata": {},
   "outputs": [
    {
     "data": {
      "application/vnd.jupyter.widget-view+json": {
       "model_id": "f282e00be6e841a2a5031528753e26cf",
       "version_major": 2,
       "version_minor": 0
      },
      "text/plain": [
       "Downloading:   0%|          | 0.00/213k [00:00<?, ?B/s]"
      ]
     },
     "metadata": {},
     "output_type": "display_data"
    }
   ],
   "source": [
    "tokenizer = BertTokenizer.from_pretrained('bert-base-cased', do_lower_case=False)"
   ]
  },
  {
   "cell_type": "code",
   "execution_count": 18,
   "metadata": {},
   "outputs": [],
   "source": [
    "def tokenize_and_preserve_labels(sentence, text_labels):\n",
    "    tokenized_sentence = []\n",
    "    labels = []\n",
    "\n",
    "    for word, label in zip(sentence, text_labels):\n",
    "\n",
    "        # Tokenize the word and count # of subwords the word is broken into\n",
    "        tokenized_word = tokenizer.tokenize(word)\n",
    "        n_subwords = len(tokenized_word)\n",
    "\n",
    "        # Add the tokenized word to the final tokenized word list\n",
    "        tokenized_sentence.extend(tokenized_word)\n",
    "\n",
    "        # Add the same label to the new list of labels `n_subwords` times\n",
    "        labels.extend([label] * n_subwords)\n",
    "\n",
    "    return tokenized_sentence, labels"
   ]
  },
  {
   "cell_type": "code",
   "execution_count": 27,
   "metadata": {},
   "outputs": [],
   "source": [
    "tokenized_texts_and_labels = [\n",
    "    tokenize_and_preserve_labels(sent, labs)\n",
    "    for sent, labs in zip(sentences, labels)\n",
    "]"
   ]
  },
  {
   "cell_type": "code",
   "execution_count": 28,
   "metadata": {},
   "outputs": [],
   "source": [
    "tokenized_texts = [token_label_pair[0] for token_label_pair in tokenized_texts_and_labels]\n",
    "labels = [token_label_pair[1] for token_label_pair in tokenized_texts_and_labels]"
   ]
  },
  {
   "cell_type": "code",
   "execution_count": 29,
   "metadata": {},
   "outputs": [],
   "source": [
    "input_ids = pad_sequences([tokenizer.convert_tokens_to_ids(txt) for txt in tokenized_texts],\n",
    "                          maxlen=MAX_LEN, dtype=\"long\", value=0.0,\n",
    "                          truncating=\"post\", padding=\"post\")"
   ]
  },
  {
   "cell_type": "code",
   "execution_count": 30,
   "metadata": {},
   "outputs": [],
   "source": [
    "tags = pad_sequences([[tag2idx.get(l) for l in lab] for lab in labels],\n",
    "                     maxlen=MAX_LEN, value=tag2idx[\"PAD\"], padding=\"post\",\n",
    "                     dtype=\"long\", truncating=\"post\")"
   ]
  },
  {
   "cell_type": "code",
   "execution_count": 31,
   "metadata": {},
   "outputs": [],
   "source": [
    "attention_masks = [[float(i != 0.0) for i in ii] for ii in input_ids]"
   ]
  },
  {
   "cell_type": "code",
   "execution_count": 32,
   "metadata": {},
   "outputs": [],
   "source": [
    "tr_inputs, val_inputs, tr_tags, val_tags = train_test_split(input_ids, tags,\n",
    "                                                            random_state=2018, test_size=0.1)\n",
    "tr_masks, val_masks, _, _ = train_test_split(attention_masks, input_ids,\n",
    "                                             random_state=2018, test_size=0.1)"
   ]
  },
  {
   "cell_type": "code",
   "execution_count": 33,
   "metadata": {},
   "outputs": [],
   "source": [
    "tr_inputs = torch.tensor(tr_inputs)\n",
    "val_inputs = torch.tensor(val_inputs)\n",
    "tr_tags = torch.tensor(tr_tags)\n",
    "val_tags = torch.tensor(val_tags)\n",
    "tr_masks = torch.tensor(tr_masks)\n",
    "val_masks = torch.tensor(val_masks)"
   ]
  },
  {
   "cell_type": "code",
   "execution_count": 34,
   "metadata": {},
   "outputs": [],
   "source": [
    "train_data = TensorDataset(tr_inputs, tr_masks, tr_tags)\n",
    "train_sampler = RandomSampler(train_data)\n",
    "train_dataloader = DataLoader(train_data, sampler=train_sampler, batch_size=bs)\n",
    "\n",
    "valid_data = TensorDataset(val_inputs, val_masks, val_tags)\n",
    "valid_sampler = SequentialSampler(valid_data)\n",
    "valid_dataloader = DataLoader(valid_data, sampler=valid_sampler, batch_size=bs)"
   ]
  },
  {
   "cell_type": "code",
   "execution_count": 39,
   "metadata": {},
   "outputs": [
    {
     "data": {
      "application/vnd.jupyter.widget-view+json": {
       "model_id": "419625153d48425996de4aacd6127c25",
       "version_major": 2,
       "version_minor": 0
      },
      "text/plain": [
       "Downloading:   0%|          | 0.00/433 [00:00<?, ?B/s]"
      ]
     },
     "metadata": {},
     "output_type": "display_data"
    },
    {
     "data": {
      "application/vnd.jupyter.widget-view+json": {
       "model_id": "84330f4326ce41c7bfd27e77b604a35d",
       "version_major": 2,
       "version_minor": 0
      },
      "text/plain": [
       "Downloading:   0%|          | 0.00/436M [00:00<?, ?B/s]"
      ]
     },
     "metadata": {},
     "output_type": "display_data"
    }
   ],
   "source": [
    "model = BertForTokenClassification.from_pretrained(\n",
    "    \"bert-base-cased\",\n",
    "    num_labels=len(tag2idx),\n",
    "    output_attentions = False,\n",
    "    output_hidden_states = False\n",
    ")"
   ]
  },
  {
   "cell_type": "code",
   "execution_count": 37,
   "metadata": {},
   "outputs": [],
   "source": [
    "# model.cuda();"
   ]
  },
  {
   "cell_type": "code",
   "execution_count": 40,
   "metadata": {},
   "outputs": [],
   "source": [
    "FULL_FINETUNING = True\n",
    "if FULL_FINETUNING:\n",
    "    param_optimizer = list(model.named_parameters())\n",
    "    no_decay = ['bias', 'gamma', 'beta']\n",
    "    optimizer_grouped_parameters = [\n",
    "        {'params': [p for n, p in param_optimizer if not any(nd in n for nd in no_decay)],\n",
    "         'weight_decay_rate': 0.01},\n",
    "        {'params': [p for n, p in param_optimizer if any(nd in n for nd in no_decay)],\n",
    "         'weight_decay_rate': 0.0}\n",
    "    ]\n",
    "else:\n",
    "    param_optimizer = list(model.classifier.named_parameters())\n",
    "    optimizer_grouped_parameters = [{\"params\": [p for n, p in param_optimizer]}]\n",
    "\n",
    "optimizer = AdamW(\n",
    "    optimizer_grouped_parameters,\n",
    "    lr=3e-5,\n",
    "    eps=1e-8\n",
    ")"
   ]
  },
  {
   "cell_type": "code",
   "execution_count": 42,
   "metadata": {},
   "outputs": [
    {
     "data": {
      "text/plain": [
       "('../models/BERT_baseline/vocab.txt',\n",
       " '../models/BERT_baseline/special_tokens_map.json',\n",
       " '../models/BERT_baseline/added_tokens.json')"
      ]
     },
     "execution_count": 42,
     "metadata": {},
     "output_type": "execute_result"
    }
   ],
   "source": [
    "tokenizer.save_pretrained(os.path.join(LOGS_PATH))"
   ]
  },
  {
   "cell_type": "code",
   "execution_count": 43,
   "metadata": {},
   "outputs": [],
   "source": [
    "from transformers import get_linear_schedule_with_warmup\n",
    "\n",
    "epochs = 10\n",
    "max_grad_norm = 1.0\n",
    "\n",
    "# Total number of training steps is number of batches * number of epochs.\n",
    "total_steps = len(train_dataloader) * epochs\n",
    "\n",
    "# Create the learning rate scheduler.\n",
    "scheduler = get_linear_schedule_with_warmup(\n",
    "    optimizer,\n",
    "    num_warmup_steps=0,\n",
    "    num_training_steps=total_steps\n",
    ")"
   ]
  },
  {
   "cell_type": "markdown",
   "metadata": {},
   "source": [
    "## Training"
   ]
  },
  {
   "cell_type": "code",
   "execution_count": null,
   "metadata": {},
   "outputs": [],
   "source": [
    "## Store the average loss after each epoch so we can plot them.\n",
    "loss_values, validation_loss_values = [], []\n",
    "\n",
    "macro_prec, macro_rec, macro_f1 = [], [], []\n",
    "\n",
    "for epoch in trange(epochs, desc=\"Epoch\"):\n",
    "    # ========================================\n",
    "    #               Training\n",
    "    # ========================================\n",
    "    # Perform one full pass over the training set.\n",
    "\n",
    "    # Put the model into training mode.\n",
    "    model.train()\n",
    "    # Reset the total loss for this epoch.\n",
    "    total_loss = 0\n",
    "\n",
    "    # Training loop\n",
    "    for step, batch in enumerate(train_dataloader):\n",
    "        # add batch to gpu\n",
    "        batch = tuple(t.to(device) for t in batch)\n",
    "        b_input_ids, b_input_mask, b_labels = batch\n",
    "        # Always clear any previously calculated gradients before performing a backward pass.\n",
    "        model.zero_grad()\n",
    "        # forward pass\n",
    "        # This will return the loss (rather than the model output)\n",
    "        # because we have provided the `labels`.\n",
    "        outputs = model(b_input_ids, token_type_ids=None,\n",
    "                        attention_mask=b_input_mask, labels=b_labels)\n",
    "        # get the loss\n",
    "        loss = outputs[0]\n",
    "        # Perform a backward pass to calculate the gradients.\n",
    "        loss.backward()\n",
    "        # track train loss\n",
    "        total_loss += loss.item()\n",
    "        # Clip the norm of the gradient\n",
    "        # This is to help prevent the \"exploding gradients\" problem.\n",
    "        torch.nn.utils.clip_grad_norm_(parameters=model.parameters(), max_norm=max_grad_norm)\n",
    "        # update parameters\n",
    "        optimizer.step()\n",
    "        # Update the learning rate.\n",
    "        scheduler.step()\n",
    "\n",
    "    # Calculate the average loss over the training data.\n",
    "    avg_train_loss = total_loss / len(train_dataloader)\n",
    "    print(\"Average train loss: {}\".format(avg_train_loss))\n",
    "\n",
    "    # Store the loss value for plotting the learning curve.\n",
    "    loss_values.append(avg_train_loss)\n",
    "\n",
    "\n",
    "    # ========================================\n",
    "    #               Validation\n",
    "    # ========================================\n",
    "    # After the completion of each training epoch, measure our performance on\n",
    "    # our validation set.\n",
    "\n",
    "    # Put the model into evaluation mode\n",
    "    model.eval()\n",
    "    # Reset the validation loss for this epoch.\n",
    "    eval_loss, eval_accuracy = 0, 0\n",
    "    nb_eval_steps, nb_eval_examples = 0, 0\n",
    "    predictions , true_labels = [], []\n",
    "    for batch in valid_dataloader:\n",
    "        batch = tuple(t.to(device) for t in batch)\n",
    "        b_input_ids, b_input_mask, b_labels = batch\n",
    "\n",
    "        # Telling the model not to compute or store gradients,\n",
    "        # saving memory and speeding up validation\n",
    "        with torch.no_grad():\n",
    "            # Forward pass, calculate logit predictions.\n",
    "            # This will return the logits rather than the loss because we have not provided labels.\n",
    "            outputs = model(b_input_ids, token_type_ids=None,\n",
    "                            attention_mask=b_input_mask, labels=b_labels)\n",
    "        # Move logits and labels to CPU\n",
    "        logits = outputs[1].detach().cpu().numpy()\n",
    "        label_ids = b_labels.to('cpu').numpy()\n",
    "\n",
    "        # Calculate the accuracy for this batch of test sentences.\n",
    "        eval_loss += outputs[0].mean().item()\n",
    "        predictions.extend([list(p) for p in np.argmax(logits, axis=2)])\n",
    "        true_labels.extend(label_ids)\n",
    "\n",
    "    eval_loss = eval_loss / len(valid_dataloader)\n",
    "    validation_loss_values.append(eval_loss)\n",
    "    print(\"Validation loss: {}\".format(eval_loss))\n",
    "    pred_tags = [tag_values[p_i] for p, l in zip(predictions, true_labels)\n",
    "                                 for p_i, l_i in zip(p, l) if tag_values[l_i] != \"PAD\"]\n",
    "    valid_tags = [tag_values[l_i] for l in true_labels\n",
    "                                  for l_i in l if tag_values[l_i] != \"PAD\"]\n",
    "    print(\"Validation Accuracy: {}\".format(accuracy_score(pred_tags, valid_tags)))\n",
    "\n",
    "    print(\"Validation Weighted Precision: {}\".format(precision_score(valid_tags,pred_tags,  average = 'weighted')))\n",
    "    print(\"Validation Macro Precision: {}\".format(precision_score(valid_tags,pred_tags,  average = 'macro')))\n",
    "    macro_prec.append(precision_score(valid_tags,pred_tags,  average = 'macro'))\n",
    "    print(\"Validation Micro Precision: {}\".format(precision_score( valid_tags,pred_tags, average = 'micro')))\n",
    "\n",
    "    print(\"Validation Weighted Recall: {}\".format(recall_score( valid_tags, pred_tags,average = 'weighted')))\n",
    "    print(\"Validation Macro Recall: {}\".format(recall_score(valid_tags, pred_tags, average = 'macro')))\n",
    "    macro_rec.append(recall_score(valid_tags, pred_tags, average = 'macro'))\n",
    "    print(\"Validation Micro Recall: {}\".format(recall_score( valid_tags, pred_tags,average = 'micro')))\n",
    "\n",
    "\n",
    "    print(\"Validation Weighted F1-Score: {}\".format(f1_score( valid_tags, pred_tags,average = 'weighted')))\n",
    "    print(\"Validation macro F1-Score: {}\".format(f1_score( valid_tags, pred_tags,average = 'macro')))\n",
    "    macro_f1.append(f1_score( valid_tags, pred_tags,average = 'macro'))\n",
    "    print(\"Validation micro F1-Score: {}\".format(f1_score(valid_tags, pred_tags, average = 'micro')))\n",
    "\n",
    "    import matplotlib.pyplot as plt\n",
    "    import seaborn as sns\n",
    "\n",
    "\n",
    "    labels = np.unique(valid_tags)\n",
    "    a =  confusion_matrix(valid_tags, pred_tags, labels=labels)\n",
    "    plt.figure(figsize = (20,14))\n",
    "    sns.set(font_scale=1.4) # for label size\n",
    "    sns.heatmap(pd.DataFrame(a, index=labels, columns=labels), annot=True, fmt='d', cmap='Blues',robust=True)\n",
    "    plt.show()\n",
    "    pd.DataFrame(a, index=labels, columns=labels).to_csv(os.path.join(LOGS_PATH,'conf_matr_'+str(epoch)+'.csv'))\n",
    "    \n",
    "\n",
    "\n",
    "\n",
    "    # Use plot styling from seaborn.\n",
    "    sns.set(style='darkgrid')\n",
    "\n",
    "    # Increase the plot size and font size.\n",
    "    sns.set(font_scale=1.5)\n",
    "    plt.rcParams[\"figure.figsize\"] = (12,6)\n",
    "\n",
    "    # Plot the learning curve.\n",
    "\n",
    "        \n",
    "    plt.plot(loss_values, 'b-o', label=\"training loss\")\n",
    "    plt.plot(validation_loss_values, 'r-o', label=\"validation loss\")\n",
    "\n",
    "    # Label the plot.\n",
    "    plt.title(\"Learning curve\")\n",
    "    plt.xlabel(\"Epoch\")\n",
    "    plt.ylabel(\"Loss\")\n",
    "    plt.legend()\n",
    "\n",
    "    plt.show()\n",
    "    \n",
    "    model.save_pretrained(LOGS_PATH)\n",
    "    \n",
    "    with open(os.path.join(LOGS_PATH,'train_loss.txt'),'w') as f:\n",
    "        f.write('\\n'.join([str(x) for x in loss_values]))\n",
    "    \n",
    "    with open(os.path.join(LOGS_PATH,'val_loss.txt'),'w') as f:\n",
    "        f.write('\\n'.join([str(x) for x in validation_loss_values]))\n",
    "    with open(os.path.join(LOGS_PATH,'macro_prec.txt'),'w') as f:\n",
    "        f.write('\\n'.join([str(x) for x in macro_prec]))\n",
    "    \n",
    "    with open(os.path.join(LOGS_PATH,'macro_rec.txt'),'w') as f:\n",
    "        f.write('\\n'.join([str(x) for x in macro_rec]))\n",
    "        \n",
    "    with open(os.path.join(LOGS_PATH,'macro_f1.txt'),'w') as f:\n",
    "        f.write('\\n'.join([str(x) for x in macro_f1]))\n",
    "    \n",
    "    \n",
    "    print()\n",
    "    "
   ]
  },
  {
   "cell_type": "markdown",
   "metadata": {},
   "source": [
    "## Evaluation"
   ]
  },
  {
   "cell_type": "code",
   "execution_count": 56,
   "metadata": {},
   "outputs": [],
   "source": [
    "TEST_DATA_PATH = '../data/raw/'\n",
    "YEAR = 2013\n",
    "FILENAME = 'FTA 1008 - Darkseoul-Jokra Analysis and Recovery.pdf.txt'"
   ]
  },
  {
   "cell_type": "code",
   "execution_count": 57,
   "metadata": {},
   "outputs": [],
   "source": [
    "test_docs = []\n",
    "import os\n",
    "sent_num_dataset=0\n",
    "with open(os.path.join(TEST_DATA_PATH, str(YEAR), FILENAME)) as f:\n",
    "    docname = str(YEAR)+'/'+FILENAME\n",
    "    data = []\n",
    "    for para in f.read().strip().split('\\n\\n'):\n",
    "      para = ' '.join(para.strip().replace(\"\\n\", \" \").split())\n",
    "      if para!='':\n",
    "        data.extend(sent_tokenize(para))\n",
    "    rows = [{'DocName':docname, 'SentNum':i, 'SentNumOverall':i+sent_num_dataset,'Sentence':sent} for i, sent in enumerate(data)]\n",
    "    test_docs+=rows\n",
    "    sent_num_dataset+=len(data)"
   ]
  },
  {
   "cell_type": "code",
   "execution_count": 58,
   "metadata": {},
   "outputs": [],
   "source": [
    "test_docs_df = pd.DataFrame(test_docs)"
   ]
  },
  {
   "cell_type": "markdown",
   "metadata": {},
   "source": [
    "### Load models"
   ]
  },
  {
   "cell_type": "code",
   "execution_count": 6,
   "metadata": {},
   "outputs": [
    {
     "name": "stderr",
     "output_type": "stream",
     "text": [
      "Calling BertTokenizer.from_pretrained() with the path to a single file or url is deprecated\n"
     ]
    }
   ],
   "source": [
    "tokenizer = BertTokenizer.from_pretrained(os.path.join(LOG_PATH), do_lower_case=False)"
   ]
  },
  {
   "cell_type": "code",
   "execution_count": 9,
   "metadata": {},
   "outputs": [],
   "source": [
    "tag2idx = {'B-appdata': 37,\n",
    " 'B-attack_pattern': 5,\n",
    " 'B-campaign': 34,\n",
    " 'B-city': 18,\n",
    " 'B-country': 15,\n",
    " 'B-cve': 39,\n",
    " 'B-excel': 6,\n",
    " 'B-file': 20,\n",
    " 'B-identity': 47,\n",
    " 'B-industry': 14,\n",
    " 'B-input': 24,\n",
    " 'B-ioc': 32,\n",
    " 'B-local': 26,\n",
    " 'B-major': 44,\n",
    " 'B-malware': 50,\n",
    " 'B-mitre_attack': 36,\n",
    " 'B-n': 25,\n",
    " 'B-name': 29,\n",
    " 'B-org': 23,\n",
    " 'B-pid': 28,\n",
    " 'B-program': 52,\n",
    " 'B-software': 38,\n",
    " 'B-technique': 53,\n",
    " 'B-theat_actor': 3,\n",
    " 'B-threat_actor': 30,\n",
    " 'B-timestamp': 16,\n",
    " 'B-tool': 17,\n",
    " 'B-type': 27,\n",
    " 'B-update': 8,\n",
    " 'B-user': 1,\n",
    " 'B-windows': 54,\n",
    " 'I-appdata': 45,\n",
    " 'I-campaign': 9,\n",
    " 'I-city': 31,\n",
    " 'I-country': 2,\n",
    " 'I-cve': 21,\n",
    " 'I-file': 22,\n",
    " 'I-identity': 43,\n",
    " 'I-industry': 48,\n",
    " 'I-input': 49,\n",
    " 'I-ioc': 41,\n",
    " 'I-local': 40,\n",
    " 'I-malware': 0,\n",
    " 'I-mitre_attack': 7,\n",
    " 'I-name': 4,\n",
    " 'I-org': 55,\n",
    " 'I-program': 10,\n",
    " 'I-software': 11,\n",
    " 'I-technique': 46,\n",
    " 'I-threat_actor': 42,\n",
    " 'I-timestamp': 12,\n",
    " 'I-tool': 51,\n",
    " 'I-type': 33,\n",
    " 'I-user': 19,\n",
    " 'I-windows': 35,\n",
    " 'O': 13,\n",
    " 'PAD': 56}"
   ]
  },
  {
   "cell_type": "code",
   "execution_count": 13,
   "metadata": {},
   "outputs": [
    {
     "data": {
      "text/plain": [
       "'../models/BERT_baseline'"
      ]
     },
     "execution_count": 13,
     "metadata": {},
     "output_type": "execute_result"
    }
   ],
   "source": [
    "LOG_PATH"
   ]
  },
  {
   "cell_type": "code",
   "execution_count": null,
   "metadata": {},
   "outputs": [],
   "source": [
    "model = BertForTokenClassification.from_pretrained(LOG_PATH)"
   ]
  },
  {
   "cell_type": "markdown",
   "metadata": {},
   "source": [
    "### Annotate text"
   ]
  },
  {
   "cell_type": "code",
   "execution_count": 71,
   "metadata": {},
   "outputs": [],
   "source": [
    "def annotate_text(data):\n",
    "  annotation = []\n",
    "  \n",
    "  for test_sentence in test_docs_df['Sentence']:\n",
    "    prev_label='O'\n",
    "    tokenized_sentence = tokenizer.encode(test_sentence)\n",
    "    input_ids = torch.tensor([tokenized_sentence])#.cuda()\n",
    "    with torch.no_grad():\n",
    "        output = model(input_ids)\n",
    "    label_indices = np.argmax(output[0].to('cpu').numpy(), axis=2)\n",
    "    tokens = tokenizer.convert_ids_to_tokens(input_ids.to('cpu').numpy()[0])\n",
    "    new_tokens, new_labels = [], []\n",
    "    for token, label_idx in zip(tokens, label_indices[0]):\n",
    "        if token.startswith(\"##\"):\n",
    "            new_tokens[-1] = new_tokens[-1] + token[2:]\n",
    "        else:\n",
    "            new_labels.append(tag_values[label_idx])\n",
    "            new_tokens.append(token)\n",
    "    from nltk import pos_tag\n",
    "    from nltk.tree import Tree\n",
    "    from nltk.chunk import conlltags2tree\n",
    "    tokens = new_tokens\n",
    "    tags = new_labels\n",
    "    # tag each token with pos\n",
    "    pos_tags = [pos for token, pos in pos_tag(tokens)]\n",
    "    # convert the BIO / IOB tags to tree\n",
    "    conlltags = [(token, pos, tg) for token, pos, tg in zip(tokens, pos_tags, tags)]\n",
    "    ne_tree = conlltags2tree(conlltags)\n",
    "    # parse the tree to get our original text\n",
    "    original_text = []\n",
    "    for subtree in ne_tree:\n",
    "        # checking for 'O' tags\n",
    "        if type(subtree) == Tree:\n",
    "            original_label = subtree.label()\n",
    "            original_string = \" \".join([token for token, pos  in subtree.leaves()])\n",
    "            if (original_string!='[CLS]' and original_string!='[SEP]'):\n",
    "              if original_label==prev_label:\n",
    "                original_text.append(original_string)\n",
    "              else:\n",
    "                original_text.append('<'+original_label.upper()+'>'+original_string)\n",
    "              prev_label = original_label\n",
    "        elif type(subtree)==tuple:\n",
    "          if (subtree[0]!='[CLS]' and subtree[0]!='[SEP]'):\n",
    "            if prev_label!='O':\n",
    "              original_text[-1]+='</'+original_label.upper()+'>'\n",
    "              prev_label='O'\n",
    "            original_text.append(subtree[0])\n",
    "    annotation+=[tokenizer.convert_tokens_to_string(original_text)]\n",
    "  return '\\n'.join(annotation)"
   ]
  },
  {
   "cell_type": "code",
   "execution_count": 72,
   "metadata": {},
   "outputs": [],
   "source": [
    "text_an = annotate_text(test_docs_df)"
   ]
  },
  {
   "cell_type": "code",
   "execution_count": 73,
   "metadata": {},
   "outputs": [],
   "source": [
    "with open(os.path.join(LOGS_PATH, 'test_'+str(FILENAME)),'w') as f:\n",
    "    f.write(text_an)"
   ]
  },
  {
   "cell_type": "code",
   "execution_count": null,
   "metadata": {},
   "outputs": [],
   "source": []
  }
 ],
 "metadata": {
  "kernelspec": {
   "display_name": "Python 3",
   "language": "python",
   "name": "python3"
  },
  "language_info": {
   "codemirror_mode": {
    "name": "ipython",
    "version": 3
   },
   "file_extension": ".py",
   "mimetype": "text/x-python",
   "name": "python",
   "nbconvert_exporter": "python",
   "pygments_lexer": "ipython3",
   "version": "3.8.5"
  }
 },
 "nbformat": 4,
 "nbformat_minor": 5
}
