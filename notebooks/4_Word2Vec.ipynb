{
 "cells": [
  {
   "cell_type": "code",
   "execution_count": 37,
   "metadata": {
    "id": "wI7lbDZldh_I"
   },
   "outputs": [],
   "source": [
    "import pandas as pd\n",
    "import glob\n",
    "from nltk import word_tokenize, pos_tag, ne_chunk\n",
    "from tqdm import tqdm, trange\n",
    "\n",
    "import numpy as np"
   ]
  },
  {
   "cell_type": "code",
   "execution_count": 38,
   "metadata": {
    "id": "YHng3wEh8kmB"
   },
   "outputs": [],
   "source": [
    "DATA_PATH = '../data/processed/'"
   ]
  },
  {
   "cell_type": "markdown",
   "metadata": {},
   "source": [
    "# Create dataset"
   ]
  },
  {
   "cell_type": "code",
   "execution_count": 39,
   "metadata": {
    "id": "AR-cOPa59c0E"
   },
   "outputs": [],
   "source": [
    "tags = ['THREAT_ACTOR', 'SOFTWARE', 'INDUSTRY', 'ORG', 'TIMESTAMP',\n",
    "       'MALWARE', 'COUNTRY', 'IOC', 'IDENTITY', 'CAMPAIGN', 'TOOL',\n",
    "       'MITRE_ATTACK', 'THEAT_ACTOR', 'ATTACK_PATTERN', 'TECHNIQUE',\n",
    "       'CITY','CVE']\n",
    "\n",
    "tags_small = [x.lower() for x in tags]"
   ]
  },
  {
   "cell_type": "markdown",
   "metadata": {},
   "source": [
    "## Parse texts with tags"
   ]
  },
  {
   "cell_type": "code",
   "execution_count": 4,
   "metadata": {
    "colab": {
     "base_uri": "https://localhost:8080/"
    },
    "id": "S3Fgbkh99gZ9",
    "outputId": "fcbb8c36-6481-4fe5-8b9f-43a6f17af9b0"
   },
   "outputs": [
    {
     "name": "stdout",
     "output_type": "stream",
     "text": [
      "DONE\n"
     ]
    }
   ],
   "source": [
    "# create doc parser\n",
    "texts = ''\n",
    "for doc in glob.glob(DATA_PATH+'*'):\n",
    "    with open(doc) as f:\n",
    "        texts+='<DOCNAME>'+''.join(doc.split('/')[-1].split('.')[:-2])+'</DOCNAME>'\n",
    "        data = f.read().strip()\n",
    "        if '<THREAT_ACTOR>Gamma<THREAT_ACTOR>' in data:\n",
    "                data = data.replace('<THREAT_ACTOR>Gamma<THREAT_ACTOR>','<THREAT_ACTOR>Gamma</THREAT_ACTOR>')\n",
    "\n",
    "        if '<THREAT_ACTOR>Lambert<THREAT_ACTOR>' in data:\n",
    "                data = data.replace('<THREAT_ACTOR>Lambert<THREAT_ACTOR>','<THREAT_ACTOR>Lambert</THREAT_ACTOR>')\n",
    "                \n",
    "        if '<THREAT_ACTOR>Unit 61398<THREAT_ACTOR>' in data:\n",
    "                data = data.replace('<THREAT_ACTOR>Unit 61398<THREAT_ACTOR>','<THREAT_ACTOR>Unit 61398</THREAT_ACTOR>')\n",
    "                \n",
    "        if '<THEAT_ACTOR>Sofacy' in data:\n",
    "                data = data.replace('<THEAT_ACTOR>Sofacy','<THREAT_ACTOR>Sofacy</THREAT_ACTOR>')\n",
    "                print('DONE')\n",
    "                \n",
    "        if '<SOFTWARE>Microsoft Excel<SOFTWARE>' in data:\n",
    "                data = data.replace('<SOFTWARE>Microsoft Excel<SOFTWARE>','<SOFTWARE>Microsoft Excel</SOFTWARE>')\n",
    "                \n",
    "        if '<SOFTWARE>Microsoft Word<SOFTWARE>' in data:\n",
    "                data = data.replace('<SOFTWARE>Microsoft Word<SOFTWARE>','<SOFTWARE>Microsoft Word</SOFTWARE>')\n",
    "\n",
    "        if '<SOFTWARE>ScanMail<SOFTWARE>' in data:\n",
    "                data = data.replace('<SOFTWARE>ScanMail<SOFTWARE>','<SOFTWARE>ScanMail</SOFTWARE>')\n",
    " \n",
    "                \n",
    "        if '<ORG>Philippines Department of Justice<ORG>' in data:\n",
    "                data = data.replace('<ORG>Philippines Department of Justice<ORG>','<ORG>Philippines Department of Justice</ORG>')\n",
    "\n",
    "                \n",
    "        if '<INDUSTRY>Utilities Sector<INDUSTRY>' in data:\n",
    "                data = data.replace('<INDUSTRY>Utilities Sector<INDUSTRY>','<INDUSTRY>Utilities Sector</INDUSTRY>')\n",
    "\n",
    "        if '<ORG>Wataniya Telecom' in data:\n",
    "                data = data.replace('<ORG>Wataniya Telecom\\n','<ORG>Wataniya Telecom</ORG>')\n",
    "                data = data.replace('<ORG>Wataniya Telecom ','<ORG>Wataniya Telecom</ORG>')\n",
    "                data = data.replace('<ORG>Wataniya Telecom','<ORG>Wataniya Telecom</ORG>')\n",
    "                \n",
    "                \n",
    "        if '<ORG>Technet<ORG>' in data:\n",
    "                data = data.replace('<ORG>Technet<ORG>','<ORG>Technet</ORG>')\n",
    "\n",
    "        if '<ORG>Bundestag<ORG>' in data:\n",
    "                data = data.replace('<ORG>Bundestag<ORG>','<ORG>Bundestag</ORG>')\n",
    "\n",
    "        if '<ORG>Twitter' in data:\n",
    "                data = data.replace('<ORG>Twitter','<ORG>Twitter</ORG>')\n",
    "\n",
    "        if '<ORG>GReAT<ORG>' in data:\n",
    "                data = data.replace('<ORG>GReAT<ORG>','<ORG>GReAT</ORG>')\n",
    "                \n",
    "        if '<ORG>OSCE' in data:\n",
    "                data = data.replace('<ORG>OSCE','<ORG>OSCE</ORG>')\n",
    "\n",
    "                \n",
    "        if '<TIMESTAMP>September 19, 2017<TIMESTAMP>' in data:\n",
    "                data = data.replace('<TIMESTAMP>September 19, 2017<TIMESTAMP>','<TIMESTAMP>September 19, 2017</TIMESTAMP>')\n",
    "                \n",
    "        if '<TIMESTAMP>Sep 19, 2017<TIMESTAMP>' in data:\n",
    "                data = data.replace('<TIMESTAMP>Sep 19, 2017<TIMESTAMP>','<TIMESTAMP>Sep 19, 2017</TIMESTAMP>')\n",
    "                \n",
    "        if '<TIMESTAMP>Friday, 13 January<TIMESTAMP>' in data:\n",
    "                data = data.replace('<TIMESTAMP>Friday, 13 January<TIMESTAMP>','<TIMESTAMP>Friday, 13 January</TIMESTAMP>')\n",
    "                \n",
    "        if '<COUNTRY>USA<COUNTRY>' in data:\n",
    "                data = data.replace('<COUNTRY>USA<COUNTRY>','<COUNTRY>USA</COUNTRY>')\n",
    "                \n",
    "        if '<COUNTRY>Middle East North Africa' in data:\n",
    "                data = data.replace('<COUNTRY>Middle East North Africa','<COUNTRY>Middle East North AfricaGaza</COUNTRY>')\n",
    "        \n",
    "        if '<IOC>6e55459ddbc666e5d6f89844f5d2a2647be426ca<IOC>' in data:\n",
    "                data = data.replace('<IOC>6e55459ddbc666e5d6f89844f5d2a2647be426ca<IOC>','<IOC>6e55459ddbc666e5d6f89844f5d2a2647be426ca</IOC>')\n",
    "                \n",
    "        if '<IOC>2.32.113.178<IOC>' in data:\n",
    "                data = data.replace('<IOC>2.32.113.178<IOC>','<IOC>2.32.113.178</IOC>')\n",
    "        \n",
    "        if '<IOC>dropper.exe<IOC>' in data:\n",
    "                data = data.replace('<IOC>dropper.exe<IOC>','<IOC>dropper.exe</IOC>')\n",
    "                \n",
    "        if '<IOC>www.powersafetraining[.]net<IOC>' in data:\n",
    "                data = data.replace('<IOC>www.powersafetraining[.]net<IOC>','<IOC>www.powersafetraining[.]net</IOC>')\n",
    "                \n",
    "        if '<IOC>Conhost.dll<IOC>' in data:\n",
    "                data = data.replace('<IOC>Conhost.dll<IOC>','<IOC>Conhost.dll</IOC>')\n",
    "\n",
    "                \n",
    "        if '<IOC>kevin.mandia@rocketmail.com<IOC>' in data:\n",
    "                data = data.replace('<IOC>kevin.mandia@rocketmail.com<IOC>','<IOC>kevin.mandia@rocketmail.com</IOC>')\n",
    "                \n",
    "        if '<IOC>maps.modon.gov[.]sa' in data:\n",
    "                data = data.replace('<IOC>maps.modon.gov[.]sa','<IOC>maps.modon.gov[.]sa</IOC>')\n",
    "                \n",
    "        if '<IOC>00b761bce25594da4c760574d224589daf01086c5637042982767a13a2f61bea' in data:\n",
    "                data = data.replace('<IOC>00b761bce25594da4c760574d224589daf01086c5637042982767a13a2f61bea','<IOC>00b761bce25594da4c760574d224589daf01086c5637042982767a13a2f61bea</IOC>')\n",
    "                \n",
    "        if '<IOC>e888b5e657b41d45ef0b2ed939e27ff9ea3a11c46946e31372cf26d92361c012' in data:\n",
    "                data = data.replace('<IOC>e888b5e657b41d45ef0b2ed939e27ff9ea3a11c46946e31372cf26d92361c012','<IOC>e888b5e657b41d45ef0b2ed939e27ff9ea3a11c46946e31372cf26d92361c012</IOC>')\n",
    "                \n",
    "        if '<IOC>f577d2b97963b717981c01b535f257e03688ff4a918aa66352aa9cd31845b67d' in data:\n",
    "                data = data.replace('<IOC>f577d2b97963b717981c01b535f257e03688ff4a918aa66352aa9cd31845b67d','<IOC>f577d2b97963b717981c01b535f257e03688ff4a918aa66352aa9cd31845b67d</IOC>')\n",
    "                \n",
    "                \n",
    "        if '<IDENTITY>Simone Biles' in data:\n",
    "                data = data.replace('<IDENTITY>Simone Biles','<IDENTITY>Simone Biles</IDENTITY>')\n",
    "                \n",
    "        \n",
    "        texts+=data"
   ]
  },
  {
   "cell_type": "markdown",
   "metadata": {},
   "source": [
    "## Parse text wo tags"
   ]
  },
  {
   "cell_type": "code",
   "execution_count": 5,
   "metadata": {
    "id": "mj2J8kz_CrGM"
   },
   "outputs": [],
   "source": [
    "# create doc parser\n",
    "DATA_PATH = '../data/raw/'\n",
    "\n",
    "for direct in glob.glob(DATA_PATH+'*'):\n",
    "  for doc in glob.glob(direct+'/*'):\n",
    "    with open(doc) as f:\n",
    "        texts+='<DOCNAME>'+''.join(doc.split('/')[-1].split('.')[:-2])+'</DOCNAME>'\n",
    "        data = f.read().strip()\n",
    "        \n",
    "        texts+=data"
   ]
  },
  {
   "cell_type": "markdown",
   "metadata": {},
   "source": [
    "# Remove tags from text for unsupervised learning"
   ]
  },
  {
   "cell_type": "code",
   "execution_count": 6,
   "metadata": {
    "id": "FNy5eQdc9mfw"
   },
   "outputs": [],
   "source": [
    "from bs4 import BeautifulSoup\n",
    "\n",
    "from collections import Counter\n",
    "soup = BeautifulSoup(texts)\n",
    "\n",
    "raw_text = soup.get_text()"
   ]
  },
  {
   "cell_type": "code",
   "execution_count": 7,
   "metadata": {
    "colab": {
     "base_uri": "https://localhost:8080/"
    },
    "id": "q9ekXqVnBWwq",
    "outputId": "7338423d-8e9d-4866-c7f2-4bc7ccfd1d2d"
   },
   "outputs": [
    {
     "data": {
      "text/plain": [
       "44246426"
      ]
     },
     "execution_count": 7,
     "metadata": {
      "tags": []
     },
     "output_type": "execute_result"
    }
   ],
   "source": [
    "len(raw_text)"
   ]
  },
  {
   "cell_type": "code",
   "execution_count": 8,
   "metadata": {
    "id": "eJayiMNz-oMa"
   },
   "outputs": [],
   "source": [
    "import gensim \n",
    "import logging\n",
    "from nltk.tokenize import sent_tokenize"
   ]
  },
  {
   "cell_type": "code",
   "execution_count": 9,
   "metadata": {
    "id": "Ez16uNCT_4q2"
   },
   "outputs": [],
   "source": [
    "logging.basicConfig(format='%(asctime)s : %(levelname)s : %(message)s', level=logging.INFO)"
   ]
  },
  {
   "cell_type": "code",
   "execution_count": 10,
   "metadata": {
    "id": "50wzetKSAkjj"
   },
   "outputs": [],
   "source": [
    "def read_input(raw_text):\n",
    "    \"\"\"This method reads the input file which is in gzip format\"\"\"\n",
    "\n",
    "    logging.info(\"reading file {0}...this may take a while\".format('raw'))\n",
    "    data = []\n",
    "    for para in raw_text.strip().split('\\n\\n'):\n",
    "      para = ' '.join(para.strip().replace(\"\\n\", \" \").split())\n",
    "      if para!='':\n",
    "        data.extend(sent_tokenize(para))\n",
    "            # data = sent_tokenize(f.read().strip())\n",
    "    for i, line in enumerate(data):\n",
    "\n",
    "        if (i % 10000 == 0):\n",
    "            logging.info(\"read {0} reviews\".format(i))\n",
    "\n",
    "        from gensim.parsing.preprocessing import preprocess_string\n",
    "        from gensim.parsing.preprocessing import strip_tags, strip_punctuation\n",
    "        CUSTOM_FILTERS = [lambda x: x.lower(), strip_tags, strip_punctuation]\n",
    "        yield preprocess_string(line, CUSTOM_FILTERS)#gensim.utils.simple_preprocess(line)"
   ]
  },
  {
   "cell_type": "code",
   "execution_count": 11,
   "metadata": {
    "colab": {
     "base_uri": "https://localhost:8080/"
    },
    "id": "hBQP4lqTBiYq",
    "outputId": "d3231607-b953-4ca8-da75-601913b6165e"
   },
   "outputs": [
    {
     "name": "stdout",
     "output_type": "stream",
     "text": [
      "[nltk_data] Downloading package punkt to /root/nltk_data...\n",
      "[nltk_data]   Package punkt is already up-to-date!\n"
     ]
    },
    {
     "data": {
      "text/plain": [
       "True"
      ]
     },
     "execution_count": 11,
     "metadata": {
      "tags": []
     },
     "output_type": "execute_result"
    }
   ],
   "source": [
    "import nltk\n",
    "nltk.download('punkt')"
   ]
  },
  {
   "cell_type": "code",
   "execution_count": 12,
   "metadata": {
    "colab": {
     "base_uri": "https://localhost:8080/"
    },
    "id": "R0DEAi1ABNVZ",
    "outputId": "45165e48-e928-4707-a24c-ce7f37e4fc52"
   },
   "outputs": [
    {
     "name": "stderr",
     "output_type": "stream",
     "text": [
      "2021-01-31 02:41:39,434 : INFO : reading file raw...this may take a while\n",
      "2021-01-31 02:42:04,661 : INFO : read 0 reviews\n",
      "2021-01-31 02:42:04,793 : INFO : read 10000 reviews\n",
      "2021-01-31 02:42:05,027 : INFO : read 20000 reviews\n",
      "2021-01-31 02:42:05,120 : INFO : read 30000 reviews\n",
      "2021-01-31 02:42:05,239 : INFO : read 40000 reviews\n",
      "2021-01-31 02:42:05,356 : INFO : read 50000 reviews\n",
      "2021-01-31 02:42:05,461 : INFO : read 60000 reviews\n",
      "2021-01-31 02:42:05,566 : INFO : read 70000 reviews\n",
      "2021-01-31 02:42:05,661 : INFO : read 80000 reviews\n",
      "2021-01-31 02:42:05,774 : INFO : read 90000 reviews\n",
      "2021-01-31 02:42:05,885 : INFO : read 100000 reviews\n",
      "2021-01-31 02:42:06,133 : INFO : read 110000 reviews\n",
      "2021-01-31 02:42:06,246 : INFO : read 120000 reviews\n",
      "2021-01-31 02:42:06,350 : INFO : read 130000 reviews\n",
      "2021-01-31 02:42:06,448 : INFO : read 140000 reviews\n",
      "2021-01-31 02:42:06,524 : INFO : read 150000 reviews\n",
      "2021-01-31 02:42:06,615 : INFO : read 160000 reviews\n",
      "2021-01-31 02:42:06,735 : INFO : read 170000 reviews\n",
      "2021-01-31 02:42:06,828 : INFO : read 180000 reviews\n",
      "2021-01-31 02:42:06,939 : INFO : read 190000 reviews\n",
      "2021-01-31 02:42:07,056 : INFO : read 200000 reviews\n",
      "2021-01-31 02:42:07,177 : INFO : read 210000 reviews\n",
      "2021-01-31 02:42:07,483 : INFO : read 220000 reviews\n",
      "2021-01-31 02:42:07,606 : INFO : read 230000 reviews\n",
      "2021-01-31 02:42:07,704 : INFO : read 240000 reviews\n",
      "2021-01-31 02:42:07,800 : INFO : read 250000 reviews\n",
      "2021-01-31 02:42:07,911 : INFO : read 260000 reviews\n",
      "2021-01-31 02:42:08,024 : INFO : read 270000 reviews\n",
      "2021-01-31 02:42:08,125 : INFO : read 280000 reviews\n",
      "2021-01-31 02:42:08,234 : INFO : read 290000 reviews\n",
      "2021-01-31 02:42:08,335 : INFO : read 300000 reviews\n",
      "2021-01-31 02:42:08,442 : INFO : read 310000 reviews\n",
      "2021-01-31 02:42:08,550 : INFO : read 320000 reviews\n",
      "2021-01-31 02:42:08,658 : INFO : read 330000 reviews\n",
      "2021-01-31 02:42:09,007 : INFO : read 340000 reviews\n",
      "2021-01-31 02:42:09,099 : INFO : read 350000 reviews\n",
      "2021-01-31 02:42:09,220 : INFO : read 360000 reviews\n",
      "2021-01-31 02:42:09,335 : INFO : read 370000 reviews\n",
      "2021-01-31 02:42:09,439 : INFO : read 380000 reviews\n",
      "2021-01-31 02:42:09,538 : INFO : read 390000 reviews\n",
      "2021-01-31 02:42:09,651 : INFO : read 400000 reviews\n",
      "2021-01-31 02:42:09,757 : INFO : read 410000 reviews\n",
      "2021-01-31 02:42:09,861 : INFO : read 420000 reviews\n",
      "2021-01-31 02:42:09,979 : INFO : read 430000 reviews\n",
      "2021-01-31 02:42:10,096 : INFO : read 440000 reviews\n",
      "2021-01-31 02:42:10,192 : INFO : read 450000 reviews\n",
      "2021-01-31 02:42:10,308 : INFO : read 460000 reviews\n",
      "2021-01-31 02:42:10,412 : INFO : read 470000 reviews\n",
      "2021-01-31 02:42:10,510 : INFO : read 480000 reviews\n",
      "2021-01-31 02:42:10,903 : INFO : read 490000 reviews\n",
      "2021-01-31 02:42:11,015 : INFO : read 500000 reviews\n",
      "2021-01-31 02:42:11,108 : INFO : read 510000 reviews\n",
      "2021-01-31 02:42:11,210 : INFO : read 520000 reviews\n",
      "2021-01-31 02:42:11,322 : INFO : read 530000 reviews\n",
      "2021-01-31 02:42:11,422 : INFO : read 540000 reviews\n",
      "2021-01-31 02:42:11,516 : INFO : read 550000 reviews\n",
      "2021-01-31 02:42:11,624 : INFO : read 560000 reviews\n",
      "2021-01-31 02:42:11,728 : INFO : read 570000 reviews\n",
      "2021-01-31 02:42:11,828 : INFO : read 580000 reviews\n",
      "2021-01-31 02:42:11,944 : INFO : read 590000 reviews\n",
      "2021-01-31 02:42:12,014 : INFO : Done reading data file\n"
     ]
    }
   ],
   "source": [
    "documents = list (read_input (raw_text))\n",
    "logging.info (\"Done reading data file\")"
   ]
  },
  {
   "cell_type": "markdown",
   "metadata": {},
   "source": [
    "# Create bigrams"
   ]
  },
  {
   "cell_type": "code",
   "execution_count": 21,
   "metadata": {
    "colab": {
     "base_uri": "https://localhost:8080/"
    },
    "id": "27M_WpviRw_z",
    "outputId": "8bcaeef1-b61c-414f-cbf1-3e464eac609e"
   },
   "outputs": [
    {
     "name": "stderr",
     "output_type": "stream",
     "text": [
      "2021-01-31 01:46:54,925 : INFO : collecting all words and their counts\n",
      "2021-01-31 01:46:54,926 : INFO : PROGRESS: at sentence #0, processed 0 words and 0 word types\n",
      "2021-01-31 01:46:55,157 : INFO : PROGRESS: at sentence #10000, processed 133627 words and 76105 word types\n",
      "2021-01-31 01:46:55,426 : INFO : PROGRESS: at sentence #20000, processed 272370 words and 140530 word types\n",
      "2021-01-31 01:46:55,632 : INFO : PROGRESS: at sentence #30000, processed 367186 words and 177287 word types\n",
      "2021-01-31 01:46:55,878 : INFO : PROGRESS: at sentence #40000, processed 503630 words and 218674 word types\n",
      "2021-01-31 01:46:56,119 : INFO : PROGRESS: at sentence #50000, processed 634756 words and 264631 word types\n",
      "2021-01-31 01:46:56,334 : INFO : PROGRESS: at sentence #60000, processed 746697 words and 300852 word types\n",
      "2021-01-31 01:46:56,537 : INFO : PROGRESS: at sentence #70000, processed 855381 words and 334771 word types\n",
      "2021-01-31 01:46:56,790 : INFO : PROGRESS: at sentence #80000, processed 942559 words and 361310 word types\n",
      "2021-01-31 01:46:57,011 : INFO : PROGRESS: at sentence #90000, processed 1065478 words and 394229 word types\n",
      "2021-01-31 01:46:57,242 : INFO : PROGRESS: at sentence #100000, processed 1184247 words and 424816 word types\n",
      "2021-01-31 01:46:57,394 : INFO : PROGRESS: at sentence #110000, processed 1265338 words and 443836 word types\n",
      "2021-01-31 01:46:57,607 : INFO : PROGRESS: at sentence #120000, processed 1381222 words and 471854 word types\n",
      "2021-01-31 01:46:57,816 : INFO : PROGRESS: at sentence #130000, processed 1494814 words and 503079 word types\n",
      "2021-01-31 01:46:57,999 : INFO : PROGRESS: at sentence #140000, processed 1592703 words and 530842 word types\n",
      "2021-01-31 01:46:58,089 : INFO : PROGRESS: at sentence #150000, processed 1643920 words and 543305 word types\n",
      "2021-01-31 01:46:58,222 : INFO : PROGRESS: at sentence #160000, processed 1717827 words and 562791 word types\n",
      "2021-01-31 01:46:58,466 : INFO : PROGRESS: at sentence #170000, processed 1844414 words and 591496 word types\n",
      "2021-01-31 01:46:58,623 : INFO : PROGRESS: at sentence #180000, processed 1930352 words and 613042 word types\n",
      "2021-01-31 01:46:58,860 : INFO : PROGRESS: at sentence #190000, processed 2053077 words and 642197 word types\n",
      "2021-01-31 01:46:59,107 : INFO : PROGRESS: at sentence #200000, processed 2182014 words and 676910 word types\n",
      "2021-01-31 01:46:59,403 : INFO : PROGRESS: at sentence #210000, processed 2320386 words and 716153 word types\n",
      "2021-01-31 01:46:59,589 : INFO : PROGRESS: at sentence #220000, processed 2424163 words and 740087 word types\n",
      "2021-01-31 01:46:59,836 : INFO : PROGRESS: at sentence #230000, processed 2562374 words and 776782 word types\n",
      "2021-01-31 01:47:00,011 : INFO : PROGRESS: at sentence #240000, processed 2660316 words and 798745 word types\n",
      "2021-01-31 01:47:00,179 : INFO : PROGRESS: at sentence #250000, processed 2754558 words and 827063 word types\n",
      "2021-01-31 01:47:00,393 : INFO : PROGRESS: at sentence #260000, processed 2871494 words and 850652 word types\n",
      "2021-01-31 01:47:00,608 : INFO : PROGRESS: at sentence #270000, processed 2992586 words and 877597 word types\n",
      "2021-01-31 01:47:00,800 : INFO : PROGRESS: at sentence #280000, processed 3100904 words and 899706 word types\n",
      "2021-01-31 01:47:01,004 : INFO : PROGRESS: at sentence #290000, processed 3215781 words and 925071 word types\n",
      "2021-01-31 01:47:01,163 : INFO : PROGRESS: at sentence #300000, processed 3305026 words and 947889 word types\n",
      "2021-01-31 01:47:01,366 : INFO : PROGRESS: at sentence #310000, processed 3411846 words and 970899 word types\n",
      "2021-01-31 01:47:01,576 : INFO : PROGRESS: at sentence #320000, processed 3527746 words and 1000715 word types\n",
      "2021-01-31 01:47:01,743 : INFO : PROGRESS: at sentence #330000, processed 3622899 words and 1021031 word types\n",
      "2021-01-31 01:47:01,929 : INFO : PROGRESS: at sentence #340000, processed 3727003 words and 1043322 word types\n",
      "2021-01-31 01:47:02,102 : INFO : PROGRESS: at sentence #350000, processed 3822202 words and 1063591 word types\n",
      "2021-01-31 01:47:02,331 : INFO : PROGRESS: at sentence #360000, processed 3947128 words and 1089820 word types\n",
      "2021-01-31 01:47:02,534 : INFO : PROGRESS: at sentence #370000, processed 4059162 words and 1108753 word types\n",
      "2021-01-31 01:47:02,728 : INFO : PROGRESS: at sentence #380000, processed 4167294 words and 1131834 word types\n",
      "2021-01-31 01:47:02,899 : INFO : PROGRESS: at sentence #390000, processed 4261818 words and 1153087 word types\n",
      "2021-01-31 01:47:03,125 : INFO : PROGRESS: at sentence #400000, processed 4388832 words and 1175677 word types\n",
      "2021-01-31 01:47:03,342 : INFO : PROGRESS: at sentence #410000, processed 4502875 words and 1198701 word types\n",
      "2021-01-31 01:47:03,526 : INFO : PROGRESS: at sentence #420000, processed 4604711 words and 1214503 word types\n",
      "2021-01-31 01:47:03,779 : INFO : PROGRESS: at sentence #430000, processed 4742502 words and 1244059 word types\n",
      "2021-01-31 01:47:04,009 : INFO : PROGRESS: at sentence #440000, processed 4861937 words and 1269377 word types\n",
      "2021-01-31 01:47:04,177 : INFO : PROGRESS: at sentence #450000, processed 4954405 words and 1286736 word types\n",
      "2021-01-31 01:47:04,389 : INFO : PROGRESS: at sentence #460000, processed 5069663 words and 1306454 word types\n",
      "2021-01-31 01:47:04,585 : INFO : PROGRESS: at sentence #470000, processed 5176427 words and 1329519 word types\n",
      "2021-01-31 01:47:04,761 : INFO : PROGRESS: at sentence #480000, processed 5275492 words and 1352724 word types\n",
      "2021-01-31 01:47:04,902 : INFO : PROGRESS: at sentence #490000, processed 5353804 words and 1367806 word types\n",
      "2021-01-31 01:47:05,136 : INFO : PROGRESS: at sentence #500000, processed 5476840 words and 1394627 word types\n",
      "2021-01-31 01:47:05,421 : INFO : PROGRESS: at sentence #510000, processed 5568421 words and 1410445 word types\n",
      "2021-01-31 01:47:05,617 : INFO : PROGRESS: at sentence #520000, processed 5674994 words and 1434690 word types\n",
      "2021-01-31 01:47:05,825 : INFO : PROGRESS: at sentence #530000, processed 5788199 words and 1470918 word types\n",
      "2021-01-31 01:47:05,987 : INFO : PROGRESS: at sentence #540000, processed 5877499 words and 1488165 word types\n",
      "2021-01-31 01:47:06,155 : INFO : PROGRESS: at sentence #550000, processed 5968563 words and 1508483 word types\n",
      "2021-01-31 01:47:06,385 : INFO : PROGRESS: at sentence #560000, processed 6091008 words and 1531307 word types\n",
      "2021-01-31 01:47:06,585 : INFO : PROGRESS: at sentence #570000, processed 6199630 words and 1552215 word types\n",
      "2021-01-31 01:47:06,763 : INFO : PROGRESS: at sentence #580000, processed 6296921 words and 1569975 word types\n",
      "2021-01-31 01:47:06,995 : INFO : PROGRESS: at sentence #590000, processed 6424145 words and 1591706 word types\n",
      "2021-01-31 01:47:07,077 : INFO : collected 1598463 word types from a corpus of 6466777 words (unigram + bigrams) and 593278 sentences\n",
      "2021-01-31 01:47:07,078 : INFO : using 1598463 counts as vocab in Phrases<0 vocab, min_count=1, threshold=2, max_vocab_size=40000000>\n"
     ]
    }
   ],
   "source": [
    "bigram_mdl = gensim.models.phrases.Phrases(documents, min_count=1, threshold=2)"
   ]
  },
  {
   "cell_type": "code",
   "execution_count": 22,
   "metadata": {
    "colab": {
     "base_uri": "https://localhost:8080/"
    },
    "id": "iYnuR6OER3bh",
    "outputId": "da425eb5-b376-4daf-f69e-e3eee37137d2"
   },
   "outputs": [
    {
     "name": "stderr",
     "output_type": "stream",
     "text": [
      "/usr/local/lib/python3.6/dist-packages/gensim/models/phrases.py:598: UserWarning: For a faster implementation, use the gensim.models.phrases.Phraser class\n",
      "  warnings.warn(\"For a faster implementation, use the gensim.models.phrases.Phraser class\")\n"
     ]
    }
   ],
   "source": [
    "bigrams = bigram_mdl[documents]"
   ]
  },
  {
   "cell_type": "markdown",
   "metadata": {
    "id": "58cmaNxH0mmX"
   },
   "source": [
    "# W2V model training"
   ]
  },
  {
   "cell_type": "code",
   "execution_count": 13,
   "metadata": {
    "colab": {
     "base_uri": "https://localhost:8080/"
    },
    "id": "hfhmyw2zA-r8",
    "outputId": "b2e1c7aa-a675-44e2-9d56-73ce6266abe7"
   },
   "outputs": [
    {
     "name": "stderr",
     "output_type": "stream",
     "text": [
      "2021-01-31 02:42:13,835 : INFO : collecting all words and their counts\n",
      "2021-01-31 02:42:13,839 : INFO : PROGRESS: at sentence #0, processed 0 words, keeping 0 word types\n",
      "2021-01-31 02:42:13,877 : INFO : PROGRESS: at sentence #10000, processed 133627 words, keeping 12219 word types\n",
      "2021-01-31 02:42:13,913 : INFO : PROGRESS: at sentence #20000, processed 272370 words, keeping 20518 word types\n",
      "2021-01-31 02:42:13,940 : INFO : PROGRESS: at sentence #30000, processed 367186 words, keeping 25673 word types\n",
      "2021-01-31 02:42:13,980 : INFO : PROGRESS: at sentence #40000, processed 503630 words, keeping 30296 word types\n",
      "2021-01-31 02:42:14,018 : INFO : PROGRESS: at sentence #50000, processed 634756 words, keeping 36935 word types\n",
      "2021-01-31 02:42:14,052 : INFO : PROGRESS: at sentence #60000, processed 746697 words, keeping 41188 word types\n",
      "2021-01-31 02:42:14,084 : INFO : PROGRESS: at sentence #70000, processed 855381 words, keeping 45567 word types\n",
      "2021-01-31 02:42:14,108 : INFO : PROGRESS: at sentence #80000, processed 942559 words, keeping 48632 word types\n",
      "2021-01-31 02:42:14,147 : INFO : PROGRESS: at sentence #90000, processed 1065478 words, keeping 52681 word types\n",
      "2021-01-31 02:42:14,184 : INFO : PROGRESS: at sentence #100000, processed 1184247 words, keeping 56839 word types\n",
      "2021-01-31 02:42:14,213 : INFO : PROGRESS: at sentence #110000, processed 1265338 words, keeping 58755 word types\n",
      "2021-01-31 02:42:14,245 : INFO : PROGRESS: at sentence #120000, processed 1381222 words, keeping 62081 word types\n",
      "2021-01-31 02:42:14,282 : INFO : PROGRESS: at sentence #130000, processed 1494814 words, keeping 65939 word types\n",
      "2021-01-31 02:42:14,313 : INFO : PROGRESS: at sentence #140000, processed 1592703 words, keeping 70178 word types\n",
      "2021-01-31 02:42:14,329 : INFO : PROGRESS: at sentence #150000, processed 1643920 words, keeping 72878 word types\n",
      "2021-01-31 02:42:14,361 : INFO : PROGRESS: at sentence #160000, processed 1717827 words, keeping 76003 word types\n",
      "2021-01-31 02:42:14,400 : INFO : PROGRESS: at sentence #170000, processed 1844414 words, keeping 79733 word types\n",
      "2021-01-31 02:42:14,429 : INFO : PROGRESS: at sentence #180000, processed 1930352 words, keeping 82858 word types\n",
      "2021-01-31 02:42:14,465 : INFO : PROGRESS: at sentence #190000, processed 2053077 words, keeping 85778 word types\n",
      "2021-01-31 02:42:14,506 : INFO : PROGRESS: at sentence #200000, processed 2182014 words, keeping 90867 word types\n",
      "2021-01-31 02:42:14,546 : INFO : PROGRESS: at sentence #210000, processed 2320386 words, keeping 96873 word types\n",
      "2021-01-31 02:42:14,579 : INFO : PROGRESS: at sentence #220000, processed 2424163 words, keeping 100160 word types\n",
      "2021-01-31 02:42:14,626 : INFO : PROGRESS: at sentence #230000, processed 2562374 words, keeping 104658 word types\n",
      "2021-01-31 02:42:14,656 : INFO : PROGRESS: at sentence #240000, processed 2660316 words, keeping 107988 word types\n",
      "2021-01-31 02:42:14,687 : INFO : PROGRESS: at sentence #250000, processed 2754558 words, keeping 114331 word types\n",
      "2021-01-31 02:42:14,721 : INFO : PROGRESS: at sentence #260000, processed 2871494 words, keeping 117608 word types\n",
      "2021-01-31 02:42:14,757 : INFO : PROGRESS: at sentence #270000, processed 2992586 words, keeping 121264 word types\n",
      "2021-01-31 02:42:14,788 : INFO : PROGRESS: at sentence #280000, processed 3100904 words, keeping 124519 word types\n",
      "2021-01-31 02:42:14,828 : INFO : PROGRESS: at sentence #290000, processed 3215781 words, keeping 128617 word types\n",
      "2021-01-31 02:42:14,859 : INFO : PROGRESS: at sentence #300000, processed 3305026 words, keeping 132438 word types\n",
      "2021-01-31 02:42:14,896 : INFO : PROGRESS: at sentence #310000, processed 3411846 words, keeping 136696 word types\n",
      "2021-01-31 02:42:14,933 : INFO : PROGRESS: at sentence #320000, processed 3527746 words, keeping 141680 word types\n",
      "2021-01-31 02:42:14,961 : INFO : PROGRESS: at sentence #330000, processed 3622899 words, keeping 143781 word types\n",
      "2021-01-31 02:42:14,995 : INFO : PROGRESS: at sentence #340000, processed 3727003 words, keeping 146469 word types\n",
      "2021-01-31 02:42:15,026 : INFO : PROGRESS: at sentence #350000, processed 3822202 words, keeping 148330 word types\n",
      "2021-01-31 02:42:15,067 : INFO : PROGRESS: at sentence #360000, processed 3947128 words, keeping 150690 word types\n",
      "2021-01-31 02:42:15,101 : INFO : PROGRESS: at sentence #370000, processed 4059162 words, keeping 152579 word types\n",
      "2021-01-31 02:42:15,139 : INFO : PROGRESS: at sentence #380000, processed 4167294 words, keeping 154606 word types\n",
      "2021-01-31 02:42:15,171 : INFO : PROGRESS: at sentence #390000, processed 4261818 words, keeping 157702 word types\n",
      "2021-01-31 02:42:15,209 : INFO : PROGRESS: at sentence #400000, processed 4388832 words, keeping 160361 word types\n",
      "2021-01-31 02:42:15,245 : INFO : PROGRESS: at sentence #410000, processed 4502875 words, keeping 163987 word types\n",
      "2021-01-31 02:42:15,274 : INFO : PROGRESS: at sentence #420000, processed 4604711 words, keeping 166345 word types\n",
      "2021-01-31 02:42:15,319 : INFO : PROGRESS: at sentence #430000, processed 4742502 words, keeping 169856 word types\n",
      "2021-01-31 02:42:15,354 : INFO : PROGRESS: at sentence #440000, processed 4861937 words, keeping 174075 word types\n",
      "2021-01-31 02:42:15,395 : INFO : PROGRESS: at sentence #450000, processed 4954405 words, keeping 176683 word types\n",
      "2021-01-31 02:42:15,430 : INFO : PROGRESS: at sentence #460000, processed 5069663 words, keeping 179482 word types\n",
      "2021-01-31 02:42:15,464 : INFO : PROGRESS: at sentence #470000, processed 5176427 words, keeping 183413 word types\n",
      "2021-01-31 02:42:15,496 : INFO : PROGRESS: at sentence #480000, processed 5275492 words, keeping 186877 word types\n",
      "2021-01-31 02:42:15,528 : INFO : PROGRESS: at sentence #490000, processed 5353804 words, keeping 189844 word types\n",
      "2021-01-31 02:42:15,568 : INFO : PROGRESS: at sentence #500000, processed 5476840 words, keeping 194009 word types\n",
      "2021-01-31 02:42:15,597 : INFO : PROGRESS: at sentence #510000, processed 5568421 words, keeping 196743 word types\n",
      "2021-01-31 02:42:15,631 : INFO : PROGRESS: at sentence #520000, processed 5674994 words, keeping 200610 word types\n",
      "2021-01-31 02:42:15,669 : INFO : PROGRESS: at sentence #530000, processed 5788199 words, keeping 208486 word types\n",
      "2021-01-31 02:42:15,696 : INFO : PROGRESS: at sentence #540000, processed 5877499 words, keeping 211996 word types\n",
      "2021-01-31 02:42:15,728 : INFO : PROGRESS: at sentence #550000, processed 5968563 words, keeping 216057 word types\n",
      "2021-01-31 02:42:15,765 : INFO : PROGRESS: at sentence #560000, processed 6091008 words, keeping 218176 word types\n",
      "2021-01-31 02:42:15,801 : INFO : PROGRESS: at sentence #570000, processed 6199630 words, keeping 220627 word types\n",
      "2021-01-31 02:42:15,837 : INFO : PROGRESS: at sentence #580000, processed 6296921 words, keeping 222346 word types\n",
      "2021-01-31 02:42:15,878 : INFO : PROGRESS: at sentence #590000, processed 6424145 words, keeping 225417 word types\n",
      "2021-01-31 02:42:15,892 : INFO : collected 226234 word types from a corpus of 6466777 raw words and 593278 sentences\n",
      "2021-01-31 02:42:15,893 : INFO : Loading a fresh vocabulary\n",
      "2021-01-31 02:42:16,469 : INFO : effective_min_count=2 retains 93374 unique words (41% of original 226234, drops 132860)\n",
      "2021-01-31 02:42:16,471 : INFO : effective_min_count=2 leaves 6333917 word corpus (97% of original 6466777, drops 132860)\n",
      "2021-01-31 02:42:16,767 : INFO : deleting the raw counts dictionary of 226234 items\n",
      "2021-01-31 02:42:16,776 : INFO : sample=0.001 downsamples 33 most-common words\n",
      "2021-01-31 02:42:16,777 : INFO : downsampling leaves estimated 5419265 word corpus (85.6% of prior 6333917)\n",
      "2021-01-31 02:42:17,167 : INFO : estimated required memory for 93374 words and 100 dimensions: 121386200 bytes\n",
      "2021-01-31 02:42:17,168 : INFO : resetting layer weights\n",
      "2021-01-31 02:42:35,669 : INFO : training model with 10 workers on 93374 vocabulary and 100 features, using sg=0 hs=0 sample=0.001 negative=5 window=10\n",
      "2021-01-31 02:42:36,721 : INFO : EPOCH 1 - PROGRESS: at 6.25% examples, 385477 words/s, in_qsize 19, out_qsize 1\n",
      "2021-01-31 02:42:37,747 : INFO : EPOCH 1 - PROGRESS: at 14.11% examples, 404776 words/s, in_qsize 20, out_qsize 0\n",
      "2021-01-31 02:42:38,797 : INFO : EPOCH 1 - PROGRESS: at 22.59% examples, 418202 words/s, in_qsize 19, out_qsize 0\n",
      "2021-01-31 02:42:39,814 : INFO : EPOCH 1 - PROGRESS: at 32.21% examples, 422298 words/s, in_qsize 19, out_qsize 8\n",
      "2021-01-31 02:42:40,831 : INFO : EPOCH 1 - PROGRESS: at 39.59% examples, 426653 words/s, in_qsize 20, out_qsize 3\n",
      "2021-01-31 02:42:41,842 : INFO : EPOCH 1 - PROGRESS: at 48.47% examples, 434981 words/s, in_qsize 18, out_qsize 2\n",
      "2021-01-31 02:42:42,906 : INFO : EPOCH 1 - PROGRESS: at 57.28% examples, 433404 words/s, in_qsize 20, out_qsize 0\n",
      "2021-01-31 02:42:43,920 : INFO : EPOCH 1 - PROGRESS: at 65.47% examples, 433360 words/s, in_qsize 16, out_qsize 5\n",
      "2021-01-31 02:42:44,972 : INFO : EPOCH 1 - PROGRESS: at 73.22% examples, 432635 words/s, in_qsize 18, out_qsize 1\n",
      "2021-01-31 02:42:46,055 : INFO : EPOCH 1 - PROGRESS: at 82.16% examples, 432671 words/s, in_qsize 19, out_qsize 3\n",
      "2021-01-31 02:42:47,120 : INFO : EPOCH 1 - PROGRESS: at 92.13% examples, 435329 words/s, in_qsize 19, out_qsize 0\n",
      "2021-01-31 02:42:47,891 : INFO : worker thread finished; awaiting finish of 9 more threads\n",
      "2021-01-31 02:42:47,915 : INFO : worker thread finished; awaiting finish of 8 more threads\n",
      "2021-01-31 02:42:47,942 : INFO : worker thread finished; awaiting finish of 7 more threads\n",
      "2021-01-31 02:42:47,967 : INFO : worker thread finished; awaiting finish of 6 more threads\n",
      "2021-01-31 02:42:47,980 : INFO : worker thread finished; awaiting finish of 5 more threads\n",
      "2021-01-31 02:42:47,995 : INFO : worker thread finished; awaiting finish of 4 more threads\n",
      "2021-01-31 02:42:47,997 : INFO : worker thread finished; awaiting finish of 3 more threads\n",
      "2021-01-31 02:42:48,015 : INFO : worker thread finished; awaiting finish of 2 more threads\n",
      "2021-01-31 02:42:48,024 : INFO : worker thread finished; awaiting finish of 1 more threads\n",
      "2021-01-31 02:42:48,032 : INFO : worker thread finished; awaiting finish of 0 more threads\n",
      "2021-01-31 02:42:48,033 : INFO : EPOCH - 1 : training on 6466777 raw words (5419552 effective words) took 12.3s, 438991 effective words/s\n",
      "2021-01-31 02:42:49,055 : INFO : EPOCH 2 - PROGRESS: at 5.99% examples, 378404 words/s, in_qsize 19, out_qsize 0\n",
      "2021-01-31 02:42:50,120 : INFO : EPOCH 2 - PROGRESS: at 14.40% examples, 410264 words/s, in_qsize 20, out_qsize 0\n",
      "2021-01-31 02:42:51,136 : INFO : EPOCH 2 - PROGRESS: at 22.24% examples, 412996 words/s, in_qsize 19, out_qsize 0\n",
      "2021-01-31 02:42:52,141 : INFO : EPOCH 2 - PROGRESS: at 32.26% examples, 427081 words/s, in_qsize 20, out_qsize 1\n",
      "2021-01-31 02:42:53,146 : INFO : EPOCH 2 - PROGRESS: at 39.31% examples, 427258 words/s, in_qsize 19, out_qsize 0\n",
      "2021-01-31 02:42:54,153 : INFO : EPOCH 2 - PROGRESS: at 47.14% examples, 426290 words/s, in_qsize 19, out_qsize 0\n",
      "2021-01-31 02:42:55,237 : INFO : EPOCH 2 - PROGRESS: at 56.36% examples, 429294 words/s, in_qsize 19, out_qsize 0\n",
      "2021-01-31 02:42:56,336 : INFO : EPOCH 2 - PROGRESS: at 65.26% examples, 429364 words/s, in_qsize 19, out_qsize 0\n",
      "2021-01-31 02:42:57,340 : INFO : EPOCH 2 - PROGRESS: at 72.48% examples, 427880 words/s, in_qsize 20, out_qsize 3\n",
      "2021-01-31 02:42:58,364 : INFO : EPOCH 2 - PROGRESS: at 81.72% examples, 432280 words/s, in_qsize 19, out_qsize 0\n",
      "2021-01-31 02:42:59,444 : INFO : EPOCH 2 - PROGRESS: at 90.26% examples, 430819 words/s, in_qsize 19, out_qsize 0\n",
      "2021-01-31 02:43:00,332 : INFO : worker thread finished; awaiting finish of 9 more threads\n",
      "2021-01-31 02:43:00,351 : INFO : worker thread finished; awaiting finish of 8 more threads\n",
      "2021-01-31 02:43:00,381 : INFO : worker thread finished; awaiting finish of 7 more threads\n",
      "2021-01-31 02:43:00,395 : INFO : worker thread finished; awaiting finish of 6 more threads\n",
      "2021-01-31 02:43:00,397 : INFO : worker thread finished; awaiting finish of 5 more threads\n",
      "2021-01-31 02:43:00,437 : INFO : worker thread finished; awaiting finish of 4 more threads\n",
      "2021-01-31 02:43:00,460 : INFO : EPOCH 2 - PROGRESS: at 99.60% examples, 434637 words/s, in_qsize 2, out_qsize 3\n",
      "2021-01-31 02:43:00,462 : INFO : worker thread finished; awaiting finish of 3 more threads\n",
      "2021-01-31 02:43:00,463 : INFO : worker thread finished; awaiting finish of 2 more threads\n",
      "2021-01-31 02:43:00,475 : INFO : worker thread finished; awaiting finish of 1 more threads\n",
      "2021-01-31 02:43:00,484 : INFO : worker thread finished; awaiting finish of 0 more threads\n",
      "2021-01-31 02:43:00,486 : INFO : EPOCH - 2 : training on 6466777 raw words (5419564 effective words) took 12.4s, 435733 effective words/s\n",
      "2021-01-31 02:43:01,503 : INFO : EPOCH 3 - PROGRESS: at 6.41% examples, 405793 words/s, in_qsize 19, out_qsize 0\n",
      "2021-01-31 02:43:02,561 : INFO : EPOCH 3 - PROGRESS: at 13.98% examples, 400406 words/s, in_qsize 19, out_qsize 0\n",
      "2021-01-31 02:43:03,583 : INFO : EPOCH 3 - PROGRESS: at 22.47% examples, 418960 words/s, in_qsize 19, out_qsize 0\n",
      "2021-01-31 02:43:04,624 : INFO : EPOCH 3 - PROGRESS: at 32.15% examples, 421807 words/s, in_qsize 14, out_qsize 5\n",
      "2021-01-31 02:43:05,628 : INFO : EPOCH 3 - PROGRESS: at 39.28% examples, 424738 words/s, in_qsize 17, out_qsize 2\n",
      "2021-01-31 02:43:06,702 : INFO : EPOCH 3 - PROGRESS: at 48.41% examples, 430331 words/s, in_qsize 18, out_qsize 1\n",
      "2021-01-31 02:43:07,713 : INFO : EPOCH 3 - PROGRESS: at 57.54% examples, 434998 words/s, in_qsize 16, out_qsize 3\n",
      "2021-01-31 02:43:08,711 : INFO : EPOCH 3 - PROGRESS: at 65.06% examples, 431227 words/s, in_qsize 20, out_qsize 3\n",
      "2021-01-31 02:43:09,720 : INFO : EPOCH 3 - PROGRESS: at 73.22% examples, 435603 words/s, in_qsize 20, out_qsize 1\n",
      "2021-01-31 02:43:10,729 : INFO : EPOCH 3 - PROGRESS: at 81.59% examples, 435094 words/s, in_qsize 20, out_qsize 2\n",
      "2021-01-31 02:43:11,751 : INFO : EPOCH 3 - PROGRESS: at 91.20% examples, 438580 words/s, in_qsize 20, out_qsize 0\n",
      "2021-01-31 02:43:12,711 : INFO : worker thread finished; awaiting finish of 9 more threads\n",
      "2021-01-31 02:43:12,713 : INFO : worker thread finished; awaiting finish of 8 more threads\n",
      "2021-01-31 02:43:12,736 : INFO : worker thread finished; awaiting finish of 7 more threads\n",
      "2021-01-31 02:43:12,740 : INFO : worker thread finished; awaiting finish of 6 more threads\n",
      "2021-01-31 02:43:12,750 : INFO : worker thread finished; awaiting finish of 5 more threads\n",
      "2021-01-31 02:43:12,772 : INFO : EPOCH 3 - PROGRESS: at 99.49% examples, 438870 words/s, in_qsize 4, out_qsize 1\n",
      "2021-01-31 02:43:12,775 : INFO : worker thread finished; awaiting finish of 4 more threads\n",
      "2021-01-31 02:43:12,808 : INFO : worker thread finished; awaiting finish of 3 more threads\n",
      "2021-01-31 02:43:12,819 : INFO : worker thread finished; awaiting finish of 2 more threads\n",
      "2021-01-31 02:43:12,824 : INFO : worker thread finished; awaiting finish of 1 more threads\n",
      "2021-01-31 02:43:12,827 : INFO : worker thread finished; awaiting finish of 0 more threads\n",
      "2021-01-31 02:43:12,828 : INFO : EPOCH - 3 : training on 6466777 raw words (5419034 effective words) took 12.3s, 439604 effective words/s\n",
      "2021-01-31 02:43:13,884 : INFO : EPOCH 4 - PROGRESS: at 6.79% examples, 414970 words/s, in_qsize 19, out_qsize 0\n",
      "2021-01-31 02:43:14,920 : INFO : EPOCH 4 - PROGRESS: at 14.67% examples, 417739 words/s, in_qsize 18, out_qsize 1\n",
      "2021-01-31 02:43:15,922 : INFO : EPOCH 4 - PROGRESS: at 22.74% examples, 425004 words/s, in_qsize 19, out_qsize 0\n",
      "2021-01-31 02:43:16,930 : INFO : EPOCH 4 - PROGRESS: at 32.88% examples, 435528 words/s, in_qsize 17, out_qsize 3\n",
      "2021-01-31 02:43:17,938 : INFO : EPOCH 4 - PROGRESS: at 40.84% examples, 440450 words/s, in_qsize 19, out_qsize 0\n",
      "2021-01-31 02:43:18,970 : INFO : EPOCH 4 - PROGRESS: at 48.22% examples, 434317 words/s, in_qsize 19, out_qsize 0\n",
      "2021-01-31 02:43:19,998 : INFO : EPOCH 4 - PROGRESS: at 56.81% examples, 433681 words/s, in_qsize 16, out_qsize 3\n",
      "2021-01-31 02:43:21,008 : INFO : EPOCH 4 - PROGRESS: at 65.82% examples, 439066 words/s, in_qsize 19, out_qsize 0\n",
      "2021-01-31 02:43:22,021 : INFO : EPOCH 4 - PROGRESS: at 73.03% examples, 436844 words/s, in_qsize 18, out_qsize 3\n",
      "2021-01-31 02:43:23,033 : INFO : EPOCH 4 - PROGRESS: at 81.86% examples, 438508 words/s, in_qsize 19, out_qsize 0\n",
      "2021-01-31 02:43:24,071 : INFO : EPOCH 4 - PROGRESS: at 91.74% examples, 441111 words/s, in_qsize 20, out_qsize 1\n",
      "2021-01-31 02:43:24,988 : INFO : worker thread finished; awaiting finish of 9 more threads\n",
      "2021-01-31 02:43:24,996 : INFO : worker thread finished; awaiting finish of 8 more threads\n",
      "2021-01-31 02:43:24,998 : INFO : worker thread finished; awaiting finish of 7 more threads\n",
      "2021-01-31 02:43:25,010 : INFO : worker thread finished; awaiting finish of 6 more threads\n",
      "2021-01-31 02:43:25,014 : INFO : worker thread finished; awaiting finish of 5 more threads\n",
      "2021-01-31 02:43:25,016 : INFO : worker thread finished; awaiting finish of 4 more threads\n",
      "2021-01-31 02:43:25,022 : INFO : worker thread finished; awaiting finish of 3 more threads\n",
      "2021-01-31 02:43:25,023 : INFO : worker thread finished; awaiting finish of 2 more threads\n",
      "2021-01-31 02:43:25,062 : INFO : worker thread finished; awaiting finish of 1 more threads\n",
      "2021-01-31 02:43:25,070 : INFO : worker thread finished; awaiting finish of 0 more threads\n",
      "2021-01-31 02:43:25,071 : INFO : EPOCH - 4 : training on 6466777 raw words (5420046 effective words) took 12.2s, 443254 effective words/s\n",
      "2021-01-31 02:43:26,111 : INFO : EPOCH 5 - PROGRESS: at 5.93% examples, 368630 words/s, in_qsize 19, out_qsize 2\n",
      "2021-01-31 02:43:27,095 : INFO : EPOCH 5 - PROGRESS: at 14.38% examples, 422912 words/s, in_qsize 20, out_qsize 1\n",
      "2021-01-31 02:43:28,120 : INFO : EPOCH 5 - PROGRESS: at 22.01% examples, 417333 words/s, in_qsize 19, out_qsize 0\n",
      "2021-01-31 02:43:29,158 : INFO : EPOCH 5 - PROGRESS: at 31.96% examples, 424912 words/s, in_qsize 19, out_qsize 0\n",
      "2021-01-31 02:43:30,159 : INFO : EPOCH 5 - PROGRESS: at 39.65% examples, 432455 words/s, in_qsize 18, out_qsize 2\n",
      "2021-01-31 02:43:31,168 : INFO : EPOCH 5 - PROGRESS: at 47.91% examples, 434471 words/s, in_qsize 19, out_qsize 0\n",
      "2021-01-31 02:43:32,232 : INFO : EPOCH 5 - PROGRESS: at 55.86% examples, 426890 words/s, in_qsize 20, out_qsize 7\n",
      "2021-01-31 02:43:33,271 : INFO : EPOCH 5 - PROGRESS: at 64.49% examples, 430390 words/s, in_qsize 19, out_qsize 0\n",
      "2021-01-31 02:43:34,282 : INFO : EPOCH 5 - PROGRESS: at 72.87% examples, 434808 words/s, in_qsize 17, out_qsize 2\n",
      "2021-01-31 02:43:35,284 : INFO : EPOCH 5 - PROGRESS: at 80.65% examples, 433157 words/s, in_qsize 19, out_qsize 3\n",
      "2021-01-31 02:43:36,301 : INFO : EPOCH 5 - PROGRESS: at 90.16% examples, 436853 words/s, in_qsize 19, out_qsize 0\n",
      "2021-01-31 02:43:37,351 : INFO : EPOCH 5 - PROGRESS: at 98.39% examples, 433517 words/s, in_qsize 6, out_qsize 11\n",
      "2021-01-31 02:43:37,362 : INFO : worker thread finished; awaiting finish of 9 more threads\n",
      "2021-01-31 02:43:37,369 : INFO : worker thread finished; awaiting finish of 8 more threads\n",
      "2021-01-31 02:43:37,370 : INFO : worker thread finished; awaiting finish of 7 more threads\n",
      "2021-01-31 02:43:37,374 : INFO : worker thread finished; awaiting finish of 6 more threads\n",
      "2021-01-31 02:43:37,377 : INFO : worker thread finished; awaiting finish of 5 more threads\n",
      "2021-01-31 02:43:37,380 : INFO : worker thread finished; awaiting finish of 4 more threads\n",
      "2021-01-31 02:43:37,397 : INFO : worker thread finished; awaiting finish of 3 more threads\n",
      "2021-01-31 02:43:37,413 : INFO : worker thread finished; awaiting finish of 2 more threads\n",
      "2021-01-31 02:43:37,439 : INFO : worker thread finished; awaiting finish of 1 more threads\n",
      "2021-01-31 02:43:37,440 : INFO : worker thread finished; awaiting finish of 0 more threads\n",
      "2021-01-31 02:43:37,441 : INFO : EPOCH - 5 : training on 6466777 raw words (5418191 effective words) took 12.4s, 438444 effective words/s\n",
      "2021-01-31 02:43:38,475 : INFO : EPOCH 6 - PROGRESS: at 6.22% examples, 382178 words/s, in_qsize 17, out_qsize 2\n",
      "2021-01-31 02:43:39,522 : INFO : EPOCH 6 - PROGRESS: at 14.23% examples, 408814 words/s, in_qsize 20, out_qsize 3\n",
      "2021-01-31 02:43:40,518 : INFO : EPOCH 6 - PROGRESS: at 22.47% examples, 422091 words/s, in_qsize 15, out_qsize 4\n",
      "2021-01-31 02:43:41,522 : INFO : EPOCH 6 - PROGRESS: at 32.33% examples, 431991 words/s, in_qsize 19, out_qsize 1\n",
      "2021-01-31 02:43:42,534 : INFO : EPOCH 6 - PROGRESS: at 40.79% examples, 442074 words/s, in_qsize 19, out_qsize 0\n",
      "2021-01-31 02:43:43,537 : INFO : EPOCH 6 - PROGRESS: at 48.47% examples, 440310 words/s, in_qsize 19, out_qsize 0\n",
      "2021-01-31 02:43:44,587 : INFO : EPOCH 6 - PROGRESS: at 57.12% examples, 437554 words/s, in_qsize 19, out_qsize 0\n",
      "2021-01-31 02:43:45,656 : INFO : EPOCH 6 - PROGRESS: at 65.67% examples, 436166 words/s, in_qsize 17, out_qsize 2\n",
      "2021-01-31 02:43:46,703 : INFO : EPOCH 6 - PROGRESS: at 73.50% examples, 436223 words/s, in_qsize 19, out_qsize 0\n",
      "2021-01-31 02:43:47,716 : INFO : EPOCH 6 - PROGRESS: at 83.08% examples, 440495 words/s, in_qsize 19, out_qsize 0\n",
      "2021-01-31 02:43:48,721 : INFO : EPOCH 6 - PROGRESS: at 91.65% examples, 438879 words/s, in_qsize 17, out_qsize 2\n",
      "2021-01-31 02:43:49,619 : INFO : worker thread finished; awaiting finish of 9 more threads\n",
      "2021-01-31 02:43:49,621 : INFO : worker thread finished; awaiting finish of 8 more threads\n",
      "2021-01-31 02:43:49,623 : INFO : worker thread finished; awaiting finish of 7 more threads\n",
      "2021-01-31 02:43:49,648 : INFO : worker thread finished; awaiting finish of 6 more threads\n",
      "2021-01-31 02:43:49,651 : INFO : worker thread finished; awaiting finish of 5 more threads\n",
      "2021-01-31 02:43:49,660 : INFO : worker thread finished; awaiting finish of 4 more threads\n",
      "2021-01-31 02:43:49,685 : INFO : worker thread finished; awaiting finish of 3 more threads\n",
      "2021-01-31 02:43:49,695 : INFO : worker thread finished; awaiting finish of 2 more threads\n",
      "2021-01-31 02:43:49,705 : INFO : worker thread finished; awaiting finish of 1 more threads\n",
      "2021-01-31 02:43:49,707 : INFO : worker thread finished; awaiting finish of 0 more threads\n",
      "2021-01-31 02:43:49,708 : INFO : EPOCH - 6 : training on 6466777 raw words (5418889 effective words) took 12.2s, 442362 effective words/s\n",
      "2021-01-31 02:43:50,757 : INFO : EPOCH 7 - PROGRESS: at 6.22% examples, 376492 words/s, in_qsize 18, out_qsize 1\n",
      "2021-01-31 02:43:51,787 : INFO : EPOCH 7 - PROGRESS: at 14.35% examples, 412463 words/s, in_qsize 19, out_qsize 0\n",
      "2021-01-31 02:43:52,809 : INFO : EPOCH 7 - PROGRESS: at 23.07% examples, 427019 words/s, in_qsize 19, out_qsize 0\n",
      "2021-01-31 02:43:53,861 : INFO : EPOCH 7 - PROGRESS: at 32.48% examples, 424487 words/s, in_qsize 20, out_qsize 8\n",
      "2021-01-31 02:43:54,883 : INFO : EPOCH 7 - PROGRESS: at 40.46% examples, 431918 words/s, in_qsize 16, out_qsize 3\n",
      "2021-01-31 02:43:55,900 : INFO : EPOCH 7 - PROGRESS: at 48.67% examples, 435035 words/s, in_qsize 19, out_qsize 0\n",
      "2021-01-31 02:43:56,933 : INFO : EPOCH 7 - PROGRESS: at 57.92% examples, 437574 words/s, in_qsize 19, out_qsize 0\n",
      "2021-01-31 02:43:57,966 : INFO : EPOCH 7 - PROGRESS: at 65.71% examples, 434021 words/s, in_qsize 19, out_qsize 0\n",
      "2021-01-31 02:43:58,999 : INFO : EPOCH 7 - PROGRESS: at 73.74% examples, 436761 words/s, in_qsize 19, out_qsize 0\n",
      "2021-01-31 02:44:00,030 : INFO : EPOCH 7 - PROGRESS: at 82.51% examples, 435320 words/s, in_qsize 16, out_qsize 4\n",
      "2021-01-31 02:44:01,039 : INFO : EPOCH 7 - PROGRESS: at 91.35% examples, 436987 words/s, in_qsize 19, out_qsize 0\n",
      "2021-01-31 02:44:01,870 : INFO : worker thread finished; awaiting finish of 9 more threads\n",
      "2021-01-31 02:44:01,902 : INFO : worker thread finished; awaiting finish of 8 more threads\n",
      "2021-01-31 02:44:01,916 : INFO : worker thread finished; awaiting finish of 7 more threads\n",
      "2021-01-31 02:44:01,922 : INFO : worker thread finished; awaiting finish of 6 more threads\n",
      "2021-01-31 02:44:01,924 : INFO : worker thread finished; awaiting finish of 5 more threads\n",
      "2021-01-31 02:44:01,946 : INFO : worker thread finished; awaiting finish of 4 more threads\n",
      "2021-01-31 02:44:01,975 : INFO : worker thread finished; awaiting finish of 3 more threads\n",
      "2021-01-31 02:44:01,996 : INFO : worker thread finished; awaiting finish of 2 more threads\n",
      "2021-01-31 02:44:02,001 : INFO : worker thread finished; awaiting finish of 1 more threads\n",
      "2021-01-31 02:44:02,004 : INFO : worker thread finished; awaiting finish of 0 more threads\n",
      "2021-01-31 02:44:02,005 : INFO : EPOCH - 7 : training on 6466777 raw words (5419912 effective words) took 12.3s, 441367 effective words/s\n",
      "2021-01-31 02:44:03,026 : INFO : EPOCH 8 - PROGRESS: at 6.68% examples, 423399 words/s, in_qsize 18, out_qsize 1\n",
      "2021-01-31 02:44:04,059 : INFO : EPOCH 8 - PROGRESS: at 13.96% examples, 405860 words/s, in_qsize 19, out_qsize 0\n",
      "2021-01-31 02:44:05,064 : INFO : EPOCH 8 - PROGRESS: at 22.59% examples, 427735 words/s, in_qsize 19, out_qsize 0\n",
      "2021-01-31 02:44:06,070 : INFO : EPOCH 8 - PROGRESS: at 31.46% examples, 421869 words/s, in_qsize 17, out_qsize 2\n",
      "2021-01-31 02:44:07,080 : INFO : EPOCH 8 - PROGRESS: at 39.31% examples, 430909 words/s, in_qsize 19, out_qsize 0\n",
      "2021-01-31 02:44:08,169 : INFO : EPOCH 8 - PROGRESS: at 47.84% examples, 430331 words/s, in_qsize 19, out_qsize 0\n",
      "2021-01-31 02:44:09,180 : INFO : EPOCH 8 - PROGRESS: at 57.59% examples, 438412 words/s, in_qsize 19, out_qsize 0\n",
      "2021-01-31 02:44:10,220 : INFO : EPOCH 8 - PROGRESS: at 65.71% examples, 436431 words/s, in_qsize 19, out_qsize 0\n",
      "2021-01-31 02:44:11,240 : INFO : EPOCH 8 - PROGRESS: at 73.51% examples, 437716 words/s, in_qsize 19, out_qsize 0\n",
      "2021-01-31 02:44:12,253 : INFO : EPOCH 8 - PROGRESS: at 81.86% examples, 436790 words/s, in_qsize 20, out_qsize 0\n",
      "2021-01-31 02:44:13,309 : INFO : EPOCH 8 - PROGRESS: at 90.51% examples, 435152 words/s, in_qsize 19, out_qsize 0\n",
      "2021-01-31 02:44:14,252 : INFO : worker thread finished; awaiting finish of 9 more threads\n",
      "2021-01-31 02:44:14,260 : INFO : worker thread finished; awaiting finish of 8 more threads\n",
      "2021-01-31 02:44:14,264 : INFO : worker thread finished; awaiting finish of 7 more threads\n",
      "2021-01-31 02:44:14,265 : INFO : worker thread finished; awaiting finish of 6 more threads\n",
      "2021-01-31 02:44:14,274 : INFO : worker thread finished; awaiting finish of 5 more threads\n",
      "2021-01-31 02:44:14,292 : INFO : worker thread finished; awaiting finish of 4 more threads\n",
      "2021-01-31 02:44:14,295 : INFO : worker thread finished; awaiting finish of 3 more threads\n",
      "2021-01-31 02:44:14,310 : INFO : EPOCH 8 - PROGRESS: at 99.70% examples, 439720 words/s, in_qsize 2, out_qsize 1\n",
      "2021-01-31 02:44:14,312 : INFO : worker thread finished; awaiting finish of 2 more threads\n",
      "2021-01-31 02:44:14,331 : INFO : worker thread finished; awaiting finish of 1 more threads\n",
      "2021-01-31 02:44:14,332 : INFO : worker thread finished; awaiting finish of 0 more threads\n",
      "2021-01-31 02:44:14,333 : INFO : EPOCH - 8 : training on 6466777 raw words (5418509 effective words) took 12.3s, 440259 effective words/s\n",
      "2021-01-31 02:44:15,374 : INFO : EPOCH 9 - PROGRESS: at 6.30% examples, 388363 words/s, in_qsize 20, out_qsize 0\n",
      "2021-01-31 02:44:16,394 : INFO : EPOCH 9 - PROGRESS: at 14.62% examples, 424130 words/s, in_qsize 20, out_qsize 1\n",
      "2021-01-31 02:44:17,466 : INFO : EPOCH 9 - PROGRESS: at 22.90% examples, 419821 words/s, in_qsize 18, out_qsize 1\n",
      "2021-01-31 02:44:18,472 : INFO : EPOCH 9 - PROGRESS: at 32.40% examples, 425882 words/s, in_qsize 19, out_qsize 0\n",
      "2021-01-31 02:44:19,483 : INFO : EPOCH 9 - PROGRESS: at 40.84% examples, 437131 words/s, in_qsize 19, out_qsize 0\n",
      "2021-01-31 02:44:20,489 : INFO : EPOCH 9 - PROGRESS: at 48.64% examples, 437475 words/s, in_qsize 19, out_qsize 0\n",
      "2021-01-31 02:44:21,503 : INFO : EPOCH 9 - PROGRESS: at 58.00% examples, 442083 words/s, in_qsize 19, out_qsize 0\n",
      "2021-01-31 02:44:22,504 : INFO : EPOCH 9 - PROGRESS: at 65.94% examples, 440652 words/s, in_qsize 19, out_qsize 0\n",
      "2021-01-31 02:44:23,526 : INFO : EPOCH 9 - PROGRESS: at 73.51% examples, 439558 words/s, in_qsize 19, out_qsize 0\n",
      "2021-01-31 02:44:24,541 : INFO : EPOCH 9 - PROGRESS: at 81.86% examples, 438382 words/s, in_qsize 19, out_qsize 0\n",
      "2021-01-31 02:44:25,596 : INFO : EPOCH 9 - PROGRESS: at 91.59% examples, 439585 words/s, in_qsize 19, out_qsize 0\n",
      "2021-01-31 02:44:26,505 : INFO : worker thread finished; awaiting finish of 9 more threads\n",
      "2021-01-31 02:44:26,507 : INFO : worker thread finished; awaiting finish of 8 more threads\n",
      "2021-01-31 02:44:26,532 : INFO : worker thread finished; awaiting finish of 7 more threads\n",
      "2021-01-31 02:44:26,539 : INFO : worker thread finished; awaiting finish of 6 more threads\n",
      "2021-01-31 02:44:26,575 : INFO : worker thread finished; awaiting finish of 5 more threads\n",
      "2021-01-31 02:44:26,592 : INFO : worker thread finished; awaiting finish of 4 more threads\n",
      "2021-01-31 02:44:26,612 : INFO : EPOCH 9 - PROGRESS: at 99.58% examples, 439897 words/s, in_qsize 3, out_qsize 1\n",
      "2021-01-31 02:44:26,614 : INFO : worker thread finished; awaiting finish of 3 more threads\n",
      "2021-01-31 02:44:26,616 : INFO : worker thread finished; awaiting finish of 2 more threads\n",
      "2021-01-31 02:44:26,620 : INFO : worker thread finished; awaiting finish of 1 more threads\n",
      "2021-01-31 02:44:26,621 : INFO : worker thread finished; awaiting finish of 0 more threads\n",
      "2021-01-31 02:44:26,622 : INFO : EPOCH - 9 : training on 6466777 raw words (5419141 effective words) took 12.3s, 441589 effective words/s\n",
      "2021-01-31 02:44:27,651 : INFO : EPOCH 10 - PROGRESS: at 6.26% examples, 395395 words/s, in_qsize 19, out_qsize 2\n",
      "2021-01-31 02:44:28,724 : INFO : EPOCH 10 - PROGRESS: at 14.57% examples, 413246 words/s, in_qsize 19, out_qsize 0\n",
      "2021-01-31 02:44:29,741 : INFO : EPOCH 10 - PROGRESS: at 23.07% examples, 428040 words/s, in_qsize 19, out_qsize 0\n",
      "2021-01-31 02:44:30,741 : INFO : EPOCH 10 - PROGRESS: at 32.58% examples, 430509 words/s, in_qsize 18, out_qsize 0\n",
      "2021-01-31 02:44:31,761 : INFO : EPOCH 10 - PROGRESS: at 39.80% examples, 428951 words/s, in_qsize 15, out_qsize 4\n",
      "2021-01-31 02:44:32,782 : INFO : EPOCH 10 - PROGRESS: at 48.31% examples, 434940 words/s, in_qsize 18, out_qsize 1\n",
      "2021-01-31 02:44:33,792 : INFO : EPOCH 10 - PROGRESS: at 56.82% examples, 434162 words/s, in_qsize 19, out_qsize 0\n",
      "2021-01-31 02:44:34,799 : INFO : EPOCH 10 - PROGRESS: at 65.62% examples, 437504 words/s, in_qsize 18, out_qsize 1\n",
      "2021-01-31 02:44:35,833 : INFO : EPOCH 10 - PROGRESS: at 73.01% examples, 436315 words/s, in_qsize 20, out_qsize 0\n",
      "2021-01-31 02:44:36,841 : INFO : EPOCH 10 - PROGRESS: at 81.29% examples, 434936 words/s, in_qsize 20, out_qsize 4\n",
      "2021-01-31 02:44:37,848 : INFO : EPOCH 10 - PROGRESS: at 89.94% examples, 436010 words/s, in_qsize 19, out_qsize 0\n",
      "2021-01-31 02:44:38,841 : INFO : worker thread finished; awaiting finish of 9 more threads\n",
      "2021-01-31 02:44:38,856 : INFO : EPOCH 10 - PROGRESS: at 99.00% examples, 438445 words/s, in_qsize 7, out_qsize 3\n",
      "2021-01-31 02:44:38,857 : INFO : worker thread finished; awaiting finish of 8 more threads\n",
      "2021-01-31 02:44:38,866 : INFO : worker thread finished; awaiting finish of 7 more threads\n",
      "2021-01-31 02:44:38,868 : INFO : worker thread finished; awaiting finish of 6 more threads\n",
      "2021-01-31 02:44:38,870 : INFO : worker thread finished; awaiting finish of 5 more threads\n",
      "2021-01-31 02:44:38,898 : INFO : worker thread finished; awaiting finish of 4 more threads\n",
      "2021-01-31 02:44:38,920 : INFO : worker thread finished; awaiting finish of 3 more threads\n",
      "2021-01-31 02:44:38,926 : INFO : worker thread finished; awaiting finish of 2 more threads\n",
      "2021-01-31 02:44:38,927 : INFO : worker thread finished; awaiting finish of 1 more threads\n",
      "2021-01-31 02:44:38,929 : INFO : worker thread finished; awaiting finish of 0 more threads\n",
      "2021-01-31 02:44:38,930 : INFO : EPOCH - 10 : training on 6466777 raw words (5419942 effective words) took 12.3s, 441177 effective words/s\n",
      "2021-01-31 02:44:38,932 : INFO : training on a 64667770 raw words (54192780 effective words) took 123.3s, 439659 effective words/s\n"
     ]
    }
   ],
   "source": [
    "model = gensim.models.Word2Vec(\n",
    "        bigrams,\n",
    "        size=300,\n",
    "\n",
    "        window=10,\n",
    "        min_count=2,\n",
    "        workers=10,\n",
    "        iter=10)"
   ]
  },
  {
   "cell_type": "code",
   "execution_count": 14,
   "metadata": {
    "colab": {
     "base_uri": "https://localhost:8080/"
    },
    "id": "3NejuUObAawj",
    "outputId": "d7b7b18a-344b-4883-d558-66359c0e2240"
   },
   "outputs": [
    {
     "name": "stderr",
     "output_type": "stream",
     "text": [
      "2021-01-31 02:44:44,504 : WARNING : Effective 'alpha' higher than previous training cycles\n",
      "2021-01-31 02:44:44,507 : INFO : training model with 10 workers on 93374 vocabulary and 100 features, using sg=0 hs=0 sample=0.001 negative=5 window=10\n",
      "2021-01-31 02:44:45,527 : INFO : EPOCH 1 - PROGRESS: at 5.67% examples, 353821 words/s, in_qsize 19, out_qsize 2\n",
      "2021-01-31 02:44:46,621 : INFO : EPOCH 1 - PROGRESS: at 14.40% examples, 405826 words/s, in_qsize 20, out_qsize 2\n",
      "2021-01-31 02:44:47,624 : INFO : EPOCH 1 - PROGRESS: at 23.30% examples, 430290 words/s, in_qsize 19, out_qsize 1\n",
      "2021-01-31 02:44:48,635 : INFO : EPOCH 1 - PROGRESS: at 33.03% examples, 437181 words/s, in_qsize 19, out_qsize 0\n",
      "2021-01-31 02:44:49,704 : INFO : EPOCH 1 - PROGRESS: at 40.87% examples, 433274 words/s, in_qsize 19, out_qsize 0\n",
      "2021-01-31 02:44:50,743 : INFO : EPOCH 1 - PROGRESS: at 49.04% examples, 434545 words/s, in_qsize 19, out_qsize 0\n",
      "2021-01-31 02:44:51,769 : INFO : EPOCH 1 - PROGRESS: at 58.62% examples, 440012 words/s, in_qsize 18, out_qsize 1\n",
      "2021-01-31 02:44:52,773 : INFO : EPOCH 1 - PROGRESS: at 66.10% examples, 436608 words/s, in_qsize 19, out_qsize 0\n",
      "2021-01-31 02:44:53,858 : INFO : EPOCH 1 - PROGRESS: at 74.11% examples, 435753 words/s, in_qsize 19, out_qsize 0\n",
      "2021-01-31 02:44:54,868 : INFO : EPOCH 1 - PROGRESS: at 83.45% examples, 438478 words/s, in_qsize 19, out_qsize 0\n",
      "2021-01-31 02:44:55,899 : INFO : EPOCH 1 - PROGRESS: at 92.55% examples, 439043 words/s, in_qsize 18, out_qsize 1\n",
      "2021-01-31 02:44:56,659 : INFO : worker thread finished; awaiting finish of 9 more threads\n",
      "2021-01-31 02:44:56,680 : INFO : worker thread finished; awaiting finish of 8 more threads\n",
      "2021-01-31 02:44:56,710 : INFO : worker thread finished; awaiting finish of 7 more threads\n",
      "2021-01-31 02:44:56,720 : INFO : worker thread finished; awaiting finish of 6 more threads\n",
      "2021-01-31 02:44:56,731 : INFO : worker thread finished; awaiting finish of 5 more threads\n",
      "2021-01-31 02:44:56,756 : INFO : worker thread finished; awaiting finish of 4 more threads\n",
      "2021-01-31 02:44:56,761 : INFO : worker thread finished; awaiting finish of 3 more threads\n",
      "2021-01-31 02:44:56,763 : INFO : worker thread finished; awaiting finish of 2 more threads\n",
      "2021-01-31 02:44:56,764 : INFO : worker thread finished; awaiting finish of 1 more threads\n",
      "2021-01-31 02:44:56,765 : INFO : worker thread finished; awaiting finish of 0 more threads\n",
      "2021-01-31 02:44:56,766 : INFO : EPOCH - 1 : training on 6466777 raw words (5419545 effective words) took 12.2s, 442694 effective words/s\n",
      "2021-01-31 02:44:57,804 : INFO : EPOCH 2 - PROGRESS: at 6.34% examples, 387355 words/s, in_qsize 17, out_qsize 3\n",
      "2021-01-31 02:44:58,812 : INFO : EPOCH 2 - PROGRESS: at 13.85% examples, 401954 words/s, in_qsize 15, out_qsize 4\n",
      "2021-01-31 02:44:59,853 : INFO : EPOCH 2 - PROGRESS: at 22.33% examples, 422248 words/s, in_qsize 17, out_qsize 4\n",
      "2021-01-31 02:45:00,848 : INFO : EPOCH 2 - PROGRESS: at 32.05% examples, 425659 words/s, in_qsize 19, out_qsize 8\n",
      "2021-01-31 02:45:01,883 : INFO : EPOCH 2 - PROGRESS: at 40.13% examples, 433289 words/s, in_qsize 19, out_qsize 0\n",
      "2021-01-31 02:45:02,886 : INFO : EPOCH 2 - PROGRESS: at 48.18% examples, 435662 words/s, in_qsize 20, out_qsize 0\n",
      "2021-01-31 02:45:03,897 : INFO : EPOCH 2 - PROGRESS: at 57.12% examples, 438315 words/s, in_qsize 20, out_qsize 0\n",
      "2021-01-31 02:45:04,922 : INFO : EPOCH 2 - PROGRESS: at 65.29% examples, 435987 words/s, in_qsize 19, out_qsize 0\n",
      "2021-01-31 02:45:06,037 : INFO : EPOCH 2 - PROGRESS: at 73.37% examples, 434829 words/s, in_qsize 19, out_qsize 0\n",
      "2021-01-31 02:45:07,083 : INFO : EPOCH 2 - PROGRESS: at 82.48% examples, 435287 words/s, in_qsize 19, out_qsize 0\n",
      "2021-01-31 02:45:08,096 : INFO : EPOCH 2 - PROGRESS: at 91.57% examples, 438346 words/s, in_qsize 19, out_qsize 0\n",
      "2021-01-31 02:45:08,927 : INFO : worker thread finished; awaiting finish of 9 more threads\n",
      "2021-01-31 02:45:08,965 : INFO : worker thread finished; awaiting finish of 8 more threads\n",
      "2021-01-31 02:45:08,979 : INFO : worker thread finished; awaiting finish of 7 more threads\n",
      "2021-01-31 02:45:08,996 : INFO : worker thread finished; awaiting finish of 6 more threads\n",
      "2021-01-31 02:45:09,029 : INFO : worker thread finished; awaiting finish of 5 more threads\n",
      "2021-01-31 02:45:09,053 : INFO : worker thread finished; awaiting finish of 4 more threads\n",
      "2021-01-31 02:45:09,061 : INFO : worker thread finished; awaiting finish of 3 more threads\n",
      "2021-01-31 02:45:09,068 : INFO : worker thread finished; awaiting finish of 2 more threads\n",
      "2021-01-31 02:45:09,070 : INFO : worker thread finished; awaiting finish of 1 more threads\n",
      "2021-01-31 02:45:09,071 : INFO : worker thread finished; awaiting finish of 0 more threads\n",
      "2021-01-31 02:45:09,073 : INFO : EPOCH - 2 : training on 6466777 raw words (5418940 effective words) took 12.3s, 440810 effective words/s\n",
      "2021-01-31 02:45:10,197 : INFO : EPOCH 3 - PROGRESS: at 6.65% examples, 381743 words/s, in_qsize 20, out_qsize 1\n",
      "2021-01-31 02:45:11,239 : INFO : EPOCH 3 - PROGRESS: at 15.19% examples, 415244 words/s, in_qsize 16, out_qsize 3\n",
      "2021-01-31 02:45:12,247 : INFO : EPOCH 3 - PROGRESS: at 24.52% examples, 433315 words/s, in_qsize 15, out_qsize 4\n",
      "2021-01-31 02:45:13,303 : INFO : EPOCH 3 - PROGRESS: at 33.88% examples, 437941 words/s, in_qsize 19, out_qsize 0\n",
      "2021-01-31 02:45:14,315 : INFO : EPOCH 3 - PROGRESS: at 41.69% examples, 438879 words/s, in_qsize 19, out_qsize 0\n",
      "2021-01-31 02:45:15,341 : INFO : EPOCH 3 - PROGRESS: at 49.37% examples, 434901 words/s, in_qsize 13, out_qsize 6\n",
      "2021-01-31 02:45:16,356 : INFO : EPOCH 3 - PROGRESS: at 58.19% examples, 436263 words/s, in_qsize 19, out_qsize 0\n",
      "2021-01-31 02:45:17,397 : INFO : EPOCH 3 - PROGRESS: at 66.86% examples, 438446 words/s, in_qsize 18, out_qsize 1\n",
      "2021-01-31 02:45:18,400 : INFO : EPOCH 3 - PROGRESS: at 74.73% examples, 440383 words/s, in_qsize 19, out_qsize 0\n",
      "2021-01-31 02:45:19,401 : INFO : EPOCH 3 - PROGRESS: at 83.96% examples, 442926 words/s, in_qsize 19, out_qsize 0\n",
      "2021-01-31 02:45:20,416 : INFO : EPOCH 3 - PROGRESS: at 92.30% examples, 439328 words/s, in_qsize 18, out_qsize 1\n",
      "2021-01-31 02:45:21,240 : INFO : worker thread finished; awaiting finish of 9 more threads\n",
      "2021-01-31 02:45:21,250 : INFO : worker thread finished; awaiting finish of 8 more threads\n",
      "2021-01-31 02:45:21,271 : INFO : worker thread finished; awaiting finish of 7 more threads\n",
      "2021-01-31 02:45:21,273 : INFO : worker thread finished; awaiting finish of 6 more threads\n",
      "2021-01-31 02:45:21,275 : INFO : worker thread finished; awaiting finish of 5 more threads\n",
      "2021-01-31 02:45:21,279 : INFO : worker thread finished; awaiting finish of 4 more threads\n",
      "2021-01-31 02:45:21,283 : INFO : worker thread finished; awaiting finish of 3 more threads\n",
      "2021-01-31 02:45:21,304 : INFO : worker thread finished; awaiting finish of 2 more threads\n",
      "2021-01-31 02:45:21,306 : INFO : worker thread finished; awaiting finish of 1 more threads\n",
      "2021-01-31 02:45:21,318 : INFO : worker thread finished; awaiting finish of 0 more threads\n",
      "2021-01-31 02:45:21,319 : INFO : EPOCH - 3 : training on 6466777 raw words (5418839 effective words) took 12.2s, 443045 effective words/s\n",
      "2021-01-31 02:45:22,402 : INFO : EPOCH 4 - PROGRESS: at 6.22% examples, 383065 words/s, in_qsize 19, out_qsize 2\n",
      "2021-01-31 02:45:23,415 : INFO : EPOCH 4 - PROGRESS: at 14.91% examples, 430573 words/s, in_qsize 11, out_qsize 3\n",
      "2021-01-31 02:45:24,412 : INFO : EPOCH 4 - PROGRESS: at 22.64% examples, 422428 words/s, in_qsize 19, out_qsize 0\n",
      "2021-01-31 02:45:25,437 : INFO : EPOCH 4 - PROGRESS: at 33.03% examples, 438003 words/s, in_qsize 18, out_qsize 1\n",
      "2021-01-31 02:45:26,532 : INFO : EPOCH 4 - PROGRESS: at 40.34% examples, 426896 words/s, in_qsize 15, out_qsize 4\n",
      "2021-01-31 02:45:27,571 : INFO : EPOCH 4 - PROGRESS: at 49.63% examples, 438571 words/s, in_qsize 19, out_qsize 0\n",
      "2021-01-31 02:45:28,595 : INFO : EPOCH 4 - PROGRESS: at 57.70% examples, 433206 words/s, in_qsize 20, out_qsize 1\n",
      "2021-01-31 02:45:29,739 : INFO : EPOCH 4 - PROGRESS: at 66.87% examples, 433483 words/s, in_qsize 16, out_qsize 3\n",
      "2021-01-31 02:45:30,748 : INFO : EPOCH 4 - PROGRESS: at 75.37% examples, 438252 words/s, in_qsize 15, out_qsize 0\n",
      "2021-01-31 02:45:31,790 : INFO : EPOCH 4 - PROGRESS: at 83.84% examples, 436046 words/s, in_qsize 19, out_qsize 0\n",
      "2021-01-31 02:45:32,875 : INFO : EPOCH 4 - PROGRESS: at 93.09% examples, 435488 words/s, in_qsize 19, out_qsize 0\n",
      "2021-01-31 02:45:33,557 : INFO : worker thread finished; awaiting finish of 9 more threads\n",
      "2021-01-31 02:45:33,563 : INFO : worker thread finished; awaiting finish of 8 more threads\n",
      "2021-01-31 02:45:33,564 : INFO : worker thread finished; awaiting finish of 7 more threads\n",
      "2021-01-31 02:45:33,568 : INFO : worker thread finished; awaiting finish of 6 more threads\n",
      "2021-01-31 02:45:33,580 : INFO : worker thread finished; awaiting finish of 5 more threads\n",
      "2021-01-31 02:45:33,593 : INFO : worker thread finished; awaiting finish of 4 more threads\n",
      "2021-01-31 02:45:33,609 : INFO : worker thread finished; awaiting finish of 3 more threads\n",
      "2021-01-31 02:45:33,617 : INFO : worker thread finished; awaiting finish of 2 more threads\n",
      "2021-01-31 02:45:33,637 : INFO : worker thread finished; awaiting finish of 1 more threads\n",
      "2021-01-31 02:45:33,639 : INFO : worker thread finished; awaiting finish of 0 more threads\n",
      "2021-01-31 02:45:33,642 : INFO : EPOCH - 4 : training on 6466777 raw words (5419310 effective words) took 12.3s, 440288 effective words/s\n",
      "2021-01-31 02:45:34,676 : INFO : EPOCH 5 - PROGRESS: at 6.67% examples, 417169 words/s, in_qsize 19, out_qsize 0\n",
      "2021-01-31 02:45:35,687 : INFO : EPOCH 5 - PROGRESS: at 14.62% examples, 428092 words/s, in_qsize 19, out_qsize 1\n",
      "2021-01-31 02:45:36,738 : INFO : EPOCH 5 - PROGRESS: at 22.38% examples, 417167 words/s, in_qsize 14, out_qsize 5\n",
      "2021-01-31 02:45:37,798 : INFO : EPOCH 5 - PROGRESS: at 32.52% examples, 431139 words/s, in_qsize 17, out_qsize 7\n",
      "2021-01-31 02:45:38,787 : INFO : EPOCH 5 - PROGRESS: at 40.19% examples, 432929 words/s, in_qsize 19, out_qsize 0\n",
      "2021-01-31 02:45:39,807 : INFO : EPOCH 5 - PROGRESS: at 48.84% examples, 438323 words/s, in_qsize 20, out_qsize 0\n",
      "2021-01-31 02:45:40,830 : INFO : EPOCH 5 - PROGRESS: at 57.70% examples, 438790 words/s, in_qsize 19, out_qsize 0\n",
      "2021-01-31 02:45:41,832 : INFO : EPOCH 5 - PROGRESS: at 65.29% examples, 434529 words/s, in_qsize 18, out_qsize 3\n",
      "2021-01-31 02:45:42,849 : INFO : EPOCH 5 - PROGRESS: at 73.41% examples, 438995 words/s, in_qsize 18, out_qsize 1\n",
      "2021-01-31 02:45:43,925 : INFO : EPOCH 5 - PROGRESS: at 82.45% examples, 438611 words/s, in_qsize 19, out_qsize 0\n",
      "2021-01-31 02:45:44,950 : INFO : EPOCH 5 - PROGRESS: at 91.87% examples, 439421 words/s, in_qsize 19, out_qsize 0\n",
      "2021-01-31 02:45:45,800 : INFO : worker thread finished; awaiting finish of 9 more threads\n",
      "2021-01-31 02:45:45,812 : INFO : worker thread finished; awaiting finish of 8 more threads\n",
      "2021-01-31 02:45:45,815 : INFO : worker thread finished; awaiting finish of 7 more threads\n",
      "2021-01-31 02:45:45,816 : INFO : worker thread finished; awaiting finish of 6 more threads\n",
      "2021-01-31 02:45:45,821 : INFO : worker thread finished; awaiting finish of 5 more threads\n",
      "2021-01-31 02:45:45,835 : INFO : worker thread finished; awaiting finish of 4 more threads\n",
      "2021-01-31 02:45:45,855 : INFO : worker thread finished; awaiting finish of 3 more threads\n",
      "2021-01-31 02:45:45,875 : INFO : worker thread finished; awaiting finish of 2 more threads\n",
      "2021-01-31 02:45:45,882 : INFO : worker thread finished; awaiting finish of 1 more threads\n",
      "2021-01-31 02:45:45,888 : INFO : worker thread finished; awaiting finish of 0 more threads\n",
      "2021-01-31 02:45:45,889 : INFO : EPOCH - 5 : training on 6466777 raw words (5419712 effective words) took 12.2s, 443195 effective words/s\n",
      "2021-01-31 02:45:46,937 : INFO : EPOCH 6 - PROGRESS: at 6.40% examples, 393348 words/s, in_qsize 20, out_qsize 2\n",
      "2021-01-31 02:45:48,032 : INFO : EPOCH 6 - PROGRESS: at 14.68% examples, 407485 words/s, in_qsize 18, out_qsize 1\n",
      "2021-01-31 02:45:49,051 : INFO : EPOCH 6 - PROGRESS: at 23.92% examples, 429361 words/s, in_qsize 19, out_qsize 0\n",
      "2021-01-31 02:45:50,119 : INFO : EPOCH 6 - PROGRESS: at 32.90% examples, 424382 words/s, in_qsize 20, out_qsize 0\n",
      "2021-01-31 02:45:51,119 : INFO : EPOCH 6 - PROGRESS: at 40.90% examples, 431956 words/s, in_qsize 19, out_qsize 0\n",
      "2021-01-31 02:45:52,131 : INFO : EPOCH 6 - PROGRESS: at 49.17% examples, 435273 words/s, in_qsize 19, out_qsize 0\n",
      "2021-01-31 02:45:53,137 : INFO : EPOCH 6 - PROGRESS: at 57.82% examples, 435994 words/s, in_qsize 15, out_qsize 2\n",
      "2021-01-31 02:45:54,161 : INFO : EPOCH 6 - PROGRESS: at 65.87% examples, 434709 words/s, in_qsize 20, out_qsize 2\n",
      "2021-01-31 02:45:55,152 : INFO : EPOCH 6 - PROGRESS: at 72.75% examples, 431656 words/s, in_qsize 19, out_qsize 0\n",
      "2021-01-31 02:45:56,169 : INFO : EPOCH 6 - PROGRESS: at 81.99% examples, 436099 words/s, in_qsize 19, out_qsize 0\n",
      "2021-01-31 02:45:57,169 : INFO : EPOCH 6 - PROGRESS: at 89.99% examples, 434323 words/s, in_qsize 19, out_qsize 0\n",
      "2021-01-31 02:45:58,163 : INFO : worker thread finished; awaiting finish of 9 more threads\n",
      "2021-01-31 02:45:58,172 : INFO : EPOCH 6 - PROGRESS: at 98.96% examples, 436349 words/s, in_qsize 4, out_qsize 9\n",
      "2021-01-31 02:45:58,179 : INFO : worker thread finished; awaiting finish of 8 more threads\n",
      "2021-01-31 02:45:58,181 : INFO : worker thread finished; awaiting finish of 7 more threads\n",
      "2021-01-31 02:45:58,187 : INFO : worker thread finished; awaiting finish of 6 more threads\n",
      "2021-01-31 02:45:58,190 : INFO : worker thread finished; awaiting finish of 5 more threads\n",
      "2021-01-31 02:45:58,195 : INFO : worker thread finished; awaiting finish of 4 more threads\n",
      "2021-01-31 02:45:58,229 : INFO : worker thread finished; awaiting finish of 3 more threads\n",
      "2021-01-31 02:45:58,249 : INFO : worker thread finished; awaiting finish of 2 more threads\n",
      "2021-01-31 02:45:58,256 : INFO : worker thread finished; awaiting finish of 1 more threads\n",
      "2021-01-31 02:45:58,264 : INFO : worker thread finished; awaiting finish of 0 more threads\n",
      "2021-01-31 02:45:58,266 : INFO : EPOCH - 6 : training on 6466777 raw words (5419089 effective words) took 12.4s, 438366 effective words/s\n",
      "2021-01-31 02:45:59,283 : INFO : EPOCH 7 - PROGRESS: at 6.66% examples, 422192 words/s, in_qsize 19, out_qsize 0\n",
      "2021-01-31 02:46:00,358 : INFO : EPOCH 7 - PROGRESS: at 14.03% examples, 397397 words/s, in_qsize 20, out_qsize 4\n",
      "2021-01-31 02:46:01,395 : INFO : EPOCH 7 - PROGRESS: at 22.61% examples, 417712 words/s, in_qsize 19, out_qsize 0\n",
      "2021-01-31 02:46:02,402 : INFO : EPOCH 7 - PROGRESS: at 32.43% examples, 426155 words/s, in_qsize 19, out_qsize 0\n",
      "2021-01-31 02:46:03,415 : INFO : EPOCH 7 - PROGRESS: at 39.59% examples, 427550 words/s, in_qsize 20, out_qsize 3\n",
      "2021-01-31 02:46:04,438 : INFO : EPOCH 7 - PROGRESS: at 47.65% examples, 426772 words/s, in_qsize 19, out_qsize 0\n",
      "2021-01-31 02:46:05,459 : INFO : EPOCH 7 - PROGRESS: at 56.12% examples, 427593 words/s, in_qsize 19, out_qsize 0\n",
      "2021-01-31 02:46:06,491 : INFO : EPOCH 7 - PROGRESS: at 64.40% examples, 428336 words/s, in_qsize 18, out_qsize 1\n",
      "2021-01-31 02:46:07,533 : INFO : EPOCH 7 - PROGRESS: at 72.11% examples, 428276 words/s, in_qsize 15, out_qsize 8\n",
      "2021-01-31 02:46:08,531 : INFO : EPOCH 7 - PROGRESS: at 81.55% examples, 434224 words/s, in_qsize 19, out_qsize 0\n",
      "2021-01-31 02:46:09,618 : INFO : EPOCH 7 - PROGRESS: at 89.65% examples, 429343 words/s, in_qsize 18, out_qsize 1\n",
      "2021-01-31 02:46:10,611 : INFO : worker thread finished; awaiting finish of 9 more threads\n",
      "2021-01-31 02:46:10,620 : INFO : EPOCH 7 - PROGRESS: at 99.03% examples, 433828 words/s, in_qsize 8, out_qsize 1\n",
      "2021-01-31 02:46:10,641 : INFO : worker thread finished; awaiting finish of 8 more threads\n",
      "2021-01-31 02:46:10,691 : INFO : worker thread finished; awaiting finish of 7 more threads\n",
      "2021-01-31 02:46:10,701 : INFO : worker thread finished; awaiting finish of 6 more threads\n",
      "2021-01-31 02:46:10,712 : INFO : worker thread finished; awaiting finish of 5 more threads\n",
      "2021-01-31 02:46:10,719 : INFO : worker thread finished; awaiting finish of 4 more threads\n",
      "2021-01-31 02:46:10,720 : INFO : worker thread finished; awaiting finish of 3 more threads\n",
      "2021-01-31 02:46:10,724 : INFO : worker thread finished; awaiting finish of 2 more threads\n",
      "2021-01-31 02:46:10,742 : INFO : worker thread finished; awaiting finish of 1 more threads\n",
      "2021-01-31 02:46:10,750 : INFO : worker thread finished; awaiting finish of 0 more threads\n",
      "2021-01-31 02:46:10,751 : INFO : EPOCH - 7 : training on 6466777 raw words (5419863 effective words) took 12.5s, 434625 effective words/s\n",
      "2021-01-31 02:46:11,771 : INFO : EPOCH 8 - PROGRESS: at 6.66% examples, 420034 words/s, in_qsize 19, out_qsize 1\n",
      "2021-01-31 02:46:12,911 : INFO : EPOCH 8 - PROGRESS: at 14.79% examples, 407896 words/s, in_qsize 19, out_qsize 0\n",
      "2021-01-31 02:46:13,919 : INFO : EPOCH 8 - PROGRESS: at 23.52% examples, 422979 words/s, in_qsize 19, out_qsize 0\n",
      "2021-01-31 02:46:14,919 : INFO : EPOCH 8 - PROGRESS: at 32.67% examples, 424235 words/s, in_qsize 17, out_qsize 3\n",
      "2021-01-31 02:46:15,951 : INFO : EPOCH 8 - PROGRESS: at 40.46% examples, 429424 words/s, in_qsize 20, out_qsize 1\n",
      "2021-01-31 02:46:17,031 : INFO : EPOCH 8 - PROGRESS: at 48.84% examples, 429851 words/s, in_qsize 18, out_qsize 2\n",
      "2021-01-31 02:46:18,049 : INFO : EPOCH 8 - PROGRESS: at 57.82% examples, 432971 words/s, in_qsize 20, out_qsize 0\n",
      "2021-01-31 02:46:19,053 : INFO : EPOCH 8 - PROGRESS: at 66.20% examples, 435498 words/s, in_qsize 19, out_qsize 0\n",
      "2021-01-31 02:46:20,129 : INFO : EPOCH 8 - PROGRESS: at 73.72% examples, 432515 words/s, in_qsize 19, out_qsize 0\n",
      "2021-01-31 02:46:21,192 : INFO : EPOCH 8 - PROGRESS: at 82.63% examples, 430895 words/s, in_qsize 19, out_qsize 4\n",
      "2021-01-31 02:46:22,200 : INFO : EPOCH 8 - PROGRESS: at 91.87% examples, 433734 words/s, in_qsize 16, out_qsize 3\n",
      "2021-01-31 02:46:23,032 : INFO : worker thread finished; awaiting finish of 9 more threads\n",
      "2021-01-31 02:46:23,050 : INFO : worker thread finished; awaiting finish of 8 more threads\n",
      "2021-01-31 02:46:23,054 : INFO : worker thread finished; awaiting finish of 7 more threads\n",
      "2021-01-31 02:46:23,098 : INFO : worker thread finished; awaiting finish of 6 more threads\n",
      "2021-01-31 02:46:23,117 : INFO : worker thread finished; awaiting finish of 5 more threads\n",
      "2021-01-31 02:46:23,120 : INFO : worker thread finished; awaiting finish of 4 more threads\n",
      "2021-01-31 02:46:23,137 : INFO : worker thread finished; awaiting finish of 3 more threads\n",
      "2021-01-31 02:46:23,148 : INFO : worker thread finished; awaiting finish of 2 more threads\n",
      "2021-01-31 02:46:23,151 : INFO : worker thread finished; awaiting finish of 1 more threads\n",
      "2021-01-31 02:46:23,156 : INFO : worker thread finished; awaiting finish of 0 more threads\n",
      "2021-01-31 02:46:23,157 : INFO : EPOCH - 8 : training on 6466777 raw words (5419220 effective words) took 12.4s, 437262 effective words/s\n",
      "2021-01-31 02:46:24,259 : INFO : EPOCH 9 - PROGRESS: at 6.14% examples, 357842 words/s, in_qsize 15, out_qsize 4\n",
      "2021-01-31 02:46:25,303 : INFO : EPOCH 9 - PROGRESS: at 14.90% examples, 414825 words/s, in_qsize 19, out_qsize 0\n",
      "2021-01-31 02:46:26,342 : INFO : EPOCH 9 - PROGRESS: at 23.30% examples, 420560 words/s, in_qsize 18, out_qsize 1\n",
      "2021-01-31 02:46:27,353 : INFO : EPOCH 9 - PROGRESS: at 33.11% examples, 429509 words/s, in_qsize 20, out_qsize 0\n",
      "2021-01-31 02:46:28,367 : INFO : EPOCH 9 - PROGRESS: at 40.21% examples, 427182 words/s, in_qsize 19, out_qsize 0\n",
      "2021-01-31 02:46:29,409 : INFO : EPOCH 9 - PROGRESS: at 47.75% examples, 423673 words/s, in_qsize 19, out_qsize 1\n",
      "2021-01-31 02:46:30,396 : INFO : EPOCH 9 - PROGRESS: at 55.98% examples, 423668 words/s, in_qsize 20, out_qsize 0\n",
      "2021-01-31 02:46:31,408 : INFO : EPOCH 9 - PROGRESS: at 63.89% examples, 423820 words/s, in_qsize 20, out_qsize 1\n",
      "2021-01-31 02:46:32,433 : INFO : EPOCH 9 - PROGRESS: at 71.91% examples, 425639 words/s, in_qsize 18, out_qsize 1\n",
      "2021-01-31 02:46:33,455 : INFO : EPOCH 9 - PROGRESS: at 80.28% examples, 427056 words/s, in_qsize 19, out_qsize 0\n",
      "2021-01-31 02:46:34,508 : INFO : EPOCH 9 - PROGRESS: at 89.03% examples, 426458 words/s, in_qsize 16, out_qsize 6\n",
      "2021-01-31 02:46:35,567 : INFO : EPOCH 9 - PROGRESS: at 98.91% examples, 431108 words/s, in_qsize 9, out_qsize 1\n",
      "2021-01-31 02:46:35,575 : INFO : worker thread finished; awaiting finish of 9 more threads\n",
      "2021-01-31 02:46:35,579 : INFO : worker thread finished; awaiting finish of 8 more threads\n",
      "2021-01-31 02:46:35,594 : INFO : worker thread finished; awaiting finish of 7 more threads\n",
      "2021-01-31 02:46:35,647 : INFO : worker thread finished; awaiting finish of 6 more threads\n",
      "2021-01-31 02:46:35,656 : INFO : worker thread finished; awaiting finish of 5 more threads\n",
      "2021-01-31 02:46:35,659 : INFO : worker thread finished; awaiting finish of 4 more threads\n",
      "2021-01-31 02:46:35,660 : INFO : worker thread finished; awaiting finish of 3 more threads\n",
      "2021-01-31 02:46:35,673 : INFO : worker thread finished; awaiting finish of 2 more threads\n",
      "2021-01-31 02:46:35,685 : INFO : worker thread finished; awaiting finish of 1 more threads\n",
      "2021-01-31 02:46:35,694 : INFO : worker thread finished; awaiting finish of 0 more threads\n",
      "2021-01-31 02:46:35,695 : INFO : EPOCH - 9 : training on 6466777 raw words (5418606 effective words) took 12.5s, 432674 effective words/s\n",
      "2021-01-31 02:46:36,718 : INFO : EPOCH 10 - PROGRESS: at 5.93% examples, 368349 words/s, in_qsize 18, out_qsize 1\n",
      "2021-01-31 02:46:37,742 : INFO : EPOCH 10 - PROGRESS: at 13.98% examples, 406331 words/s, in_qsize 19, out_qsize 0\n",
      "2021-01-31 02:46:38,805 : INFO : EPOCH 10 - PROGRESS: at 22.93% examples, 422830 words/s, in_qsize 19, out_qsize 1\n",
      "2021-01-31 02:46:39,900 : INFO : EPOCH 10 - PROGRESS: at 31.73% examples, 410388 words/s, in_qsize 20, out_qsize 11\n",
      "2021-01-31 02:46:40,902 : INFO : EPOCH 10 - PROGRESS: at 39.81% examples, 425051 words/s, in_qsize 19, out_qsize 4\n",
      "2021-01-31 02:46:41,909 : INFO : EPOCH 10 - PROGRESS: at 47.88% examples, 426539 words/s, in_qsize 20, out_qsize 0\n",
      "2021-01-31 02:46:42,947 : INFO : EPOCH 10 - PROGRESS: at 57.37% examples, 432223 words/s, in_qsize 20, out_qsize 0\n",
      "2021-01-31 02:46:44,043 : INFO : EPOCH 10 - PROGRESS: at 65.71% examples, 429170 words/s, in_qsize 19, out_qsize 0\n",
      "2021-01-31 02:46:45,069 : INFO : EPOCH 10 - PROGRESS: at 73.09% examples, 428355 words/s, in_qsize 19, out_qsize 3\n",
      "2021-01-31 02:46:46,199 : INFO : EPOCH 10 - PROGRESS: at 82.35% examples, 426736 words/s, in_qsize 13, out_qsize 6\n",
      "2021-01-31 02:46:47,402 : INFO : EPOCH 10 - PROGRESS: at 92.43% examples, 429576 words/s, in_qsize 19, out_qsize 8\n",
      "2021-01-31 02:46:48,049 : INFO : worker thread finished; awaiting finish of 9 more threads\n",
      "2021-01-31 02:46:48,052 : INFO : worker thread finished; awaiting finish of 8 more threads\n",
      "2021-01-31 02:46:48,099 : INFO : worker thread finished; awaiting finish of 7 more threads\n",
      "2021-01-31 02:46:48,106 : INFO : worker thread finished; awaiting finish of 6 more threads\n",
      "2021-01-31 02:46:48,112 : INFO : worker thread finished; awaiting finish of 5 more threads\n",
      "2021-01-31 02:46:48,126 : INFO : worker thread finished; awaiting finish of 4 more threads\n",
      "2021-01-31 02:46:48,153 : INFO : worker thread finished; awaiting finish of 3 more threads\n",
      "2021-01-31 02:46:48,161 : INFO : worker thread finished; awaiting finish of 2 more threads\n",
      "2021-01-31 02:46:48,173 : INFO : worker thread finished; awaiting finish of 1 more threads\n",
      "2021-01-31 02:46:48,175 : INFO : worker thread finished; awaiting finish of 0 more threads\n",
      "2021-01-31 02:46:48,180 : INFO : EPOCH - 10 : training on 6466777 raw words (5419793 effective words) took 12.5s, 434679 effective words/s\n",
      "2021-01-31 02:46:48,182 : INFO : training on a 64667770 raw words (54192917 effective words) took 123.7s, 438199 effective words/s\n"
     ]
    },
    {
     "data": {
      "text/plain": [
       "(54192917, 64667770)"
      ]
     },
     "execution_count": 14,
     "metadata": {
      "tags": []
     },
     "output_type": "execute_result"
    }
   ],
   "source": [
    "model.train(bigrams,total_examples=len(bigrams),epochs=10)"
   ]
  },
  {
   "cell_type": "code",
   "execution_count": 15,
   "metadata": {
    "colab": {
     "base_uri": "https://localhost:8080/"
    },
    "id": "E12RNbkfUziU",
    "outputId": "e36e36e2-b999-4084-8370-3af9ec1319b1"
   },
   "outputs": [
    {
     "name": "stderr",
     "output_type": "stream",
     "text": [
      "2021-01-31 02:46:48,205 : INFO : saving Word2Vec object under word2vec_bigrams.model_100, separately None\n",
      "2021-01-31 02:46:48,210 : INFO : not storing attribute vectors_norm\n",
      "2021-01-31 02:46:48,214 : INFO : not storing attribute cum_table\n",
      "2021-01-31 02:46:49,420 : INFO : saved word2vec_bigrams.model_100\n"
     ]
    }
   ],
   "source": [
    "model.save(\"word2vec_bigrams.model_300\")"
   ]
  },
  {
   "cell_type": "markdown",
   "metadata": {},
   "source": [
    "## Save vectors for visualization"
   ]
  },
  {
   "cell_type": "code",
   "execution_count": 26,
   "metadata": {
    "colab": {
     "base_uri": "https://localhost:8080/"
    },
    "id": "flhJ1jZEklW3",
    "outputId": "037dd3b8-d148-4d24-9c75-1fa218f87b3e"
   },
   "outputs": [
    {
     "name": "stderr",
     "output_type": "stream",
     "text": [
      "2021-01-31 02:02:23,779 : INFO : storing 249329x300 projection weights into word2vec_bigrams_300.model.w2vec\n"
     ]
    }
   ],
   "source": [
    "model.wv.save_word2vec_format(\"word2vec_bigrams_300.model.w2vec\")"
   ]
  }
 ],
 "metadata": {
  "colab": {
   "collapsed_sections": [],
   "name": "3_Word2Vec.ipynb",
   "provenance": []
  },
  "kernelspec": {
   "display_name": "Python 3",
   "language": "python",
   "name": "python3"
  },
  "language_info": {
   "codemirror_mode": {
    "name": "ipython",
    "version": 3
   },
   "file_extension": ".py",
   "mimetype": "text/x-python",
   "name": "python",
   "nbconvert_exporter": "python",
   "pygments_lexer": "ipython3",
   "version": "3.8.5"
  }
 },
 "nbformat": 4,
 "nbformat_minor": 1
}
